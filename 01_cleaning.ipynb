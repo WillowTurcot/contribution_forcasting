{
 "cells": [
  {
   "cell_type": "code",
   "execution_count": 1,
   "id": "c212b62c-bf46-487c-a1de-8a70f44423ee",
   "metadata": {},
   "outputs": [],
   "source": [
    "import numpy as np\n",
    "import pandas as pd"
   ]
  },
  {
   "cell_type": "markdown",
   "id": "3cc829f4-920c-4ad2-a615-c9f9b031c588",
   "metadata": {},
   "source": [
    "# Import Data From Elections Canada"
   ]
  },
  {
   "cell_type": "code",
   "execution_count": 3,
   "id": "9225a127-8487-4b84-b4b7-70dce928663c",
   "metadata": {},
   "outputs": [
    {
     "name": "stderr",
     "output_type": "stream",
     "text": [
      "C:\\Users\\wtlem\\AppData\\Local\\Temp\\ipykernel_13528\\1411134222.py:9: DtypeWarning: Columns (4,5,7,8,10,25,26) have mixed types. Specify dtype option on import or set low_memory=False.\n",
      "  all_04_24 = pd.read_csv('./data/od_cntrbtn_audt_e.csv', encoding='ISO-8859-1')\n"
     ]
    }
   ],
   "source": [
    "#data comes from https://www.elections.ca/content.aspx?section=fin&dir=oda&document=index&lang=e\n",
    "#import csv files from the data folder\n",
    "\n",
    "#condidate data from 1993 - 2004\n",
    "can_00_04 = pd.read_csv('./data/candidate_2000_2004_contributors_audt_e.csv', encoding='ISO-8859-1')\n",
    "can_93_99 = pd.read_csv('./data/candidate_pre_2000_contributors_e.csv', encoding='ISO-8859-1')\n",
    "\n",
    "#all candidate and party contributions from January 2004 to retrieval at 2024-11-12\n",
    "all_04_24 = pd.read_csv('./data/od_cntrbtn_audt_e.csv', encoding='ISO-8859-1')\n",
    "\n",
    "#party contribution data from 1993 to 2004\n",
    "party_93_00 =pd.read_csv('./data/party_annual_1993-2000_contributors_e.csv', encoding='ISO-8859-1' )\n",
    "party_00_04 =pd.read_csv('./data/party_annual_2000-2004_contributors_e.csv', encoding='ISO-8859-1' )\n"
   ]
  },
  {
   "cell_type": "markdown",
   "id": "916938dc-4040-44cd-a91a-bfdd20b65280",
   "metadata": {},
   "source": [
    "# Rename and Remove Columns"
   ]
  },
  {
   "cell_type": "code",
   "execution_count": 5,
   "id": "b719f434-0c5c-42f9-bd6c-15ef6eeb9b0e",
   "metadata": {},
   "outputs": [
    {
     "data": {
      "text/html": [
       "<div>\n",
       "<style scoped>\n",
       "    .dataframe tbody tr th:only-of-type {\n",
       "        vertical-align: middle;\n",
       "    }\n",
       "\n",
       "    .dataframe tbody tr th {\n",
       "        vertical-align: top;\n",
       "    }\n",
       "\n",
       "    .dataframe thead th {\n",
       "        text-align: right;\n",
       "    }\n",
       "</style>\n",
       "<table border=\"1\" class=\"dataframe\">\n",
       "  <thead>\n",
       "    <tr style=\"text-align: right;\">\n",
       "      <th></th>\n",
       "      <th>Political Entity</th>\n",
       "      <th>Recipient ID</th>\n",
       "      <th>Recipient</th>\n",
       "      <th>Recipient last name</th>\n",
       "      <th>Recipient first name</th>\n",
       "      <th>Recipient middle initial</th>\n",
       "      <th>Political Party</th>\n",
       "      <th>Electoral District</th>\n",
       "      <th>Electoral event</th>\n",
       "      <th>Fiscal date</th>\n",
       "      <th>...</th>\n",
       "      <th>Contributor type</th>\n",
       "      <th>Contributor name</th>\n",
       "      <th>Contributor City</th>\n",
       "      <th>Contributor Province</th>\n",
       "      <th>Contributor Postal code</th>\n",
       "      <th>Monetary amount</th>\n",
       "      <th>Non-Monetary amount</th>\n",
       "      <th>Type of organization that contribution was given through</th>\n",
       "      <th>Contribution given through</th>\n",
       "      <th>Address of organization that contribution was given through</th>\n",
       "    </tr>\n",
       "  </thead>\n",
       "  <tbody>\n",
       "    <tr>\n",
       "      <th>0</th>\n",
       "      <td>Candidate</td>\n",
       "      <td>1</td>\n",
       "      <td>Morgan, Jim</td>\n",
       "      <td>Morgan</td>\n",
       "      <td>Jim</td>\n",
       "      <td>NaN</td>\n",
       "      <td>Progressive Conservative Party of Canada</td>\n",
       "      <td>Bonavista--Trinity--Conception</td>\n",
       "      <td>THIRTY-SEVENTH GENERAL ELECTION</td>\n",
       "      <td>2000-11-27</td>\n",
       "      <td>...</td>\n",
       "      <td>Businesses / Commercial organizations</td>\n",
       "      <td>Provincial Paving Ltd.</td>\n",
       "      <td>St. John's</td>\n",
       "      <td>NF</td>\n",
       "      <td>A1A 4G7</td>\n",
       "      <td>500.0</td>\n",
       "      <td>NaN</td>\n",
       "      <td>NaN</td>\n",
       "      <td>NaN</td>\n",
       "      <td>NaN</td>\n",
       "    </tr>\n",
       "  </tbody>\n",
       "</table>\n",
       "<p>1 rows × 24 columns</p>\n",
       "</div>"
      ],
      "text/plain": [
       "  Political Entity  Recipient ID    Recipient  Recipient last name  \\\n",
       "0        Candidate             1  Morgan, Jim               Morgan   \n",
       "\n",
       "   Recipient first name  Recipient middle initial  \\\n",
       "0                   Jim                       NaN   \n",
       "\n",
       "                            Political Party              Electoral District  \\\n",
       "0  Progressive Conservative Party of Canada  Bonavista--Trinity--Conception   \n",
       "\n",
       "                   Electoral event Fiscal date  ...  \\\n",
       "0  THIRTY-SEVENTH GENERAL ELECTION  2000-11-27  ...   \n",
       "\n",
       "                        Contributor type        Contributor name  \\\n",
       "0  Businesses / Commercial organizations  Provincial Paving Ltd.   \n",
       "\n",
       "   Contributor City Contributor Province Contributor Postal code  \\\n",
       "0        St. John's                   NF                 A1A 4G7   \n",
       "\n",
       "  Monetary amount Non-Monetary amount  \\\n",
       "0           500.0                 NaN   \n",
       "\n",
       "  Type of organization that contribution was given through  \\\n",
       "0                                                NaN         \n",
       "\n",
       "  Contribution given through  \\\n",
       "0                        NaN   \n",
       "\n",
       "   Address of organization that contribution was given through  \n",
       "0                                                NaN            \n",
       "\n",
       "[1 rows x 24 columns]"
      ]
     },
     "execution_count": 5,
     "metadata": {},
     "output_type": "execute_result"
    }
   ],
   "source": [
    "can_00_04.head(1)"
   ]
  },
  {
   "cell_type": "code",
   "execution_count": 6,
   "id": "ad8fd50c-38cc-47c6-b494-2dda6ebc99b9",
   "metadata": {},
   "outputs": [
    {
     "data": {
      "text/plain": [
       "((39920, 24), (100001, 15))"
      ]
     },
     "execution_count": 6,
     "metadata": {},
     "output_type": "execute_result"
    }
   ],
   "source": [
    "can_00_04.shape, can_93_99.shape"
   ]
  },
  {
   "cell_type": "code",
   "execution_count": 7,
   "id": "1942262a-0fe0-42b2-8910-4ad751b5c981",
   "metadata": {},
   "outputs": [
    {
     "data": {
      "text/html": [
       "<div>\n",
       "<style scoped>\n",
       "    .dataframe tbody tr th:only-of-type {\n",
       "        vertical-align: middle;\n",
       "    }\n",
       "\n",
       "    .dataframe tbody tr th {\n",
       "        vertical-align: top;\n",
       "    }\n",
       "\n",
       "    .dataframe thead th {\n",
       "        text-align: right;\n",
       "    }\n",
       "</style>\n",
       "<table border=\"1\" class=\"dataframe\">\n",
       "  <thead>\n",
       "    <tr style=\"text-align: right;\">\n",
       "      <th></th>\n",
       "      <th>Political Entity</th>\n",
       "      <th>Recipient ID</th>\n",
       "      <th>Recipient</th>\n",
       "      <th>Political Party</th>\n",
       "      <th>Electoral District</th>\n",
       "      <th>Electoral event</th>\n",
       "      <th>Fiscal date</th>\n",
       "      <th>Form ID</th>\n",
       "      <th>Financial Report</th>\n",
       "      <th>Part Number of Return</th>\n",
       "      <th>Financial Report part</th>\n",
       "      <th>Contributor type</th>\n",
       "      <th>Contributor name</th>\n",
       "      <th>Monetary amount</th>\n",
       "      <th>Non-Monetary amount</th>\n",
       "    </tr>\n",
       "  </thead>\n",
       "  <tbody>\n",
       "    <tr>\n",
       "      <th>0</th>\n",
       "      <td>Candidate</td>\n",
       "      <td>86635</td>\n",
       "      <td>Kozakavich, Michael</td>\n",
       "      <td>N.D.P.</td>\n",
       "      <td>Calgary West</td>\n",
       "      <td>36th General Election</td>\n",
       "      <td>1997-12-15</td>\n",
       "      <td>2060</td>\n",
       "      <td>Candidate's Return Respecting Election Expenses</td>\n",
       "      <td>3</td>\n",
       "      <td>List of contributors of goods, services, and d...</td>\n",
       "      <td>Registered parties</td>\n",
       "      <td>Alberta New Democratic Party/sig</td>\n",
       "      <td>NaN</td>\n",
       "      <td>359.03</td>\n",
       "    </tr>\n",
       "  </tbody>\n",
       "</table>\n",
       "</div>"
      ],
      "text/plain": [
       "  Political Entity  Recipient ID            Recipient Political Party  \\\n",
       "0        Candidate         86635  Kozakavich, Michael          N.D.P.   \n",
       "\n",
       "  Electoral District        Electoral event Fiscal date  Form ID  \\\n",
       "0       Calgary West  36th General Election  1997-12-15     2060   \n",
       "\n",
       "                                  Financial Report  Part Number of Return  \\\n",
       "0  Candidate's Return Respecting Election Expenses                      3   \n",
       "\n",
       "                               Financial Report part    Contributor type  \\\n",
       "0  List of contributors of goods, services, and d...  Registered parties   \n",
       "\n",
       "                   Contributor name  Monetary amount  Non-Monetary amount  \n",
       "0  Alberta New Democratic Party/sig              NaN               359.03  "
      ]
     },
     "execution_count": 7,
     "metadata": {},
     "output_type": "execute_result"
    }
   ],
   "source": [
    "can_93_99.head(1)"
   ]
  },
  {
   "cell_type": "code",
   "execution_count": 8,
   "id": "4ede59fa-0c73-4cbe-95e6-8c61724d140e",
   "metadata": {},
   "outputs": [
    {
     "data": {
      "text/plain": [
       "Index(['Political Entity', 'Recipient ID', 'Recipient', 'Political Party',\n",
       "       'Electoral District', 'Electoral event', 'Fiscal date', 'Form ID',\n",
       "       'Financial Report', 'Part Number of Return', 'Financial Report part',\n",
       "       'Contributor type', ' Contributor name', 'Monetary amount',\n",
       "       'Non-Monetary amount'],\n",
       "      dtype='object')"
      ]
     },
     "execution_count": 8,
     "metadata": {},
     "output_type": "execute_result"
    }
   ],
   "source": [
    "can_93_99.columns"
   ]
  },
  {
   "cell_type": "code",
   "execution_count": 9,
   "id": "626ee16a-c689-445b-9473-27cbd497ee44",
   "metadata": {},
   "outputs": [
    {
     "data": {
      "text/plain": [
       "Index(['Political Entity', 'Recipient ID', 'Recipient', 'Political Party',\n",
       "       'Electoral District', 'Electoral event', 'Fiscal date', 'Form ID',\n",
       "       'Financial Report', 'Part Number of Return', 'Financial Report part',\n",
       "       'Contributor type', ' Contributor name', 'Monetary amount',\n",
       "       'Non-Monetary amount'],\n",
       "      dtype='object')"
      ]
     },
     "execution_count": 9,
     "metadata": {},
     "output_type": "execute_result"
    }
   ],
   "source": [
    "can_93_99.columns"
   ]
  },
  {
   "cell_type": "code",
   "execution_count": 10,
   "id": "ceee62d0-b083-42e2-9f6e-c0cd69ab0553",
   "metadata": {},
   "outputs": [],
   "source": [
    "can_93_99_col_list = [\n",
    "'Political Entity',\n",
    "'Recipient', \n",
    "'Political Party',\n",
    "'Electoral District', \n",
    "'Electoral event', \n",
    "'Fiscal date', \n",
    "'Contributor type', \n",
    "' Contributor name',\n",
    "'Monetary amount',\n",
    "'Non-Monetary amount']\n",
    "\n"
   ]
  },
  {
   "cell_type": "code",
   "execution_count": 11,
   "id": "785c358d-4e76-4e15-a3e6-f50168ef0d80",
   "metadata": {},
   "outputs": [],
   "source": [
    "can_93_99 = can_93_99[can_93_99_col_list]"
   ]
  },
  {
   "cell_type": "code",
   "execution_count": 12,
   "id": "74745d92-7854-490f-aba9-a73aa9ea94ac",
   "metadata": {},
   "outputs": [],
   "source": [
    "can_93_99_col_dict = {\n",
    "'Political Entity':'political_entity',\n",
    "'Recipient':'recipient', \n",
    "'Political Party':'political_party_of_recipient',\n",
    "'Electoral District':'electoral_district', \n",
    "'Electoral event':'electoral_event', \n",
    "'Fiscal date':'fiscal/election_date', \n",
    "'Contributor type':'contributor_type', \n",
    "' Contributor name':'contributor_name',\n",
    "'Monetary amount':'monetary_amount',\n",
    "'Non-Monetary amount':'non_monetary_amount'\n",
    "}"
   ]
  },
  {
   "cell_type": "code",
   "execution_count": 13,
   "id": "9121a811-7d12-44ec-b039-9e775fabc152",
   "metadata": {},
   "outputs": [],
   "source": [
    "can_93_99 = can_93_99.rename(columns = can_93_99_col_dict)"
   ]
  },
  {
   "cell_type": "code",
   "execution_count": 14,
   "id": "607c87a7-d942-4537-acb8-8aa5859684e7",
   "metadata": {},
   "outputs": [
    {
     "data": {
      "text/plain": [
       "Index(['political_entity', 'recipient', 'political_party_of_recipient',\n",
       "       'electoral_district', 'electoral_event', 'fiscal/election_date',\n",
       "       'contributor_type', 'contributor_name', 'monetary_amount',\n",
       "       'non_monetary_amount'],\n",
       "      dtype='object')"
      ]
     },
     "execution_count": 14,
     "metadata": {},
     "output_type": "execute_result"
    }
   ],
   "source": [
    "can_93_99.columns"
   ]
  },
  {
   "cell_type": "code",
   "execution_count": null,
   "id": "cb58c769-9b59-4a7e-a8ad-8cb04c6d788b",
   "metadata": {},
   "outputs": [],
   "source": []
  },
  {
   "cell_type": "code",
   "execution_count": 15,
   "id": "912b8c5c-a688-480b-9f60-e76bc24831b6",
   "metadata": {},
   "outputs": [
    {
     "data": {
      "text/plain": [
       "Index(['Political Entity', 'Recipient ID', 'Recipient', ' Recipient last name',\n",
       "       ' Recipient first name', ' Recipient middle initial', 'Political Party',\n",
       "       'Electoral District', 'Electoral event', 'Fiscal date', 'Form ID',\n",
       "       'Financial Report', 'Part Number of Return', 'Financial Report part',\n",
       "       'Contributor type', ' Contributor name', 'Contributor City',\n",
       "       'Contributor Province', 'Contributor Postal code', 'Monetary amount',\n",
       "       'Non-Monetary amount',\n",
       "       'Type of organization that contribution was given through',\n",
       "       'Contribution given through',\n",
       "       'Address of organization that contribution was given through'],\n",
       "      dtype='object')"
      ]
     },
     "execution_count": 15,
     "metadata": {},
     "output_type": "execute_result"
    }
   ],
   "source": [
    "can_00_04.columns"
   ]
  },
  {
   "cell_type": "code",
   "execution_count": 16,
   "id": "333b64ea-aee9-47f0-b79a-99a312cc13ba",
   "metadata": {},
   "outputs": [],
   "source": [
    "can_00_04_col_list = [\n",
    "'Political Entity',\n",
    "'Recipient',\n",
    "'Political Party',\n",
    "'Electoral District', \n",
    "'Electoral event',\n",
    "'Fiscal date',\n",
    "'Contributor type',\n",
    "' Contributor name',\n",
    "'Contributor City',\n",
    "'Contributor Province',\n",
    "'Contributor Postal code',\n",
    "'Monetary amount',\n",
    "'Non-Monetary amount'\n",
    "]\n"
   ]
  },
  {
   "cell_type": "code",
   "execution_count": 17,
   "id": "7b18963d-f4f9-452a-9eff-97a541424188",
   "metadata": {},
   "outputs": [],
   "source": [
    "can_00_04 = can_00_04[can_00_04_col_list]"
   ]
  },
  {
   "cell_type": "code",
   "execution_count": 18,
   "id": "4620af15-1695-40a2-ab27-994f56f63cc3",
   "metadata": {},
   "outputs": [],
   "source": [
    "can_00_04_col_dict = {\n",
    "'Political Entity': 'political_entity',\n",
    "'Recipient':'recipient',\n",
    "'Political Party':'political_party_of_recipient',\n",
    "'Electoral event':'electoral_event',\n",
    "'Electoral District':'electoral_district',\n",
    "'Electoral event':'electoral_event',\n",
    "'Fiscal date': 'fiscal/election_date',\n",
    "'Contributor type': 'contributor_type',\n",
    "' Contributor name': 'contributor_name',\n",
    "'Contributor City': 'contributor_city',\n",
    "'Contributor Province':'contributor_province',\n",
    "'Contributor Postal code':'contributor_postal_code',\n",
    "'Monetary amount':'monetary_amount',\n",
    "'Non-Monetary amount':'non_monetary_amount'\n",
    "\n",
    "}"
   ]
  },
  {
   "cell_type": "code",
   "execution_count": 19,
   "id": "31fe8b20-d6d0-4368-a2b3-d5962e901e2d",
   "metadata": {},
   "outputs": [],
   "source": [
    "can_00_04 = can_00_04.rename(columns = can_00_04_col_dict)"
   ]
  },
  {
   "cell_type": "code",
   "execution_count": 20,
   "id": "22a84474-d6ed-4a6d-879a-4cd0de9ec955",
   "metadata": {},
   "outputs": [
    {
     "data": {
      "text/html": [
       "<div>\n",
       "<style scoped>\n",
       "    .dataframe tbody tr th:only-of-type {\n",
       "        vertical-align: middle;\n",
       "    }\n",
       "\n",
       "    .dataframe tbody tr th {\n",
       "        vertical-align: top;\n",
       "    }\n",
       "\n",
       "    .dataframe thead th {\n",
       "        text-align: right;\n",
       "    }\n",
       "</style>\n",
       "<table border=\"1\" class=\"dataframe\">\n",
       "  <thead>\n",
       "    <tr style=\"text-align: right;\">\n",
       "      <th></th>\n",
       "      <th>Political Entity</th>\n",
       "      <th>Recipient ID</th>\n",
       "      <th>Recipient</th>\n",
       "      <th>Political Party</th>\n",
       "      <th>Electoral event</th>\n",
       "      <th>Fiscal date</th>\n",
       "      <th>Financial Report</th>\n",
       "      <th>Financial Report part</th>\n",
       "      <th>Contributor type</th>\n",
       "      <th>Contributor name</th>\n",
       "      <th>Contributor last name</th>\n",
       "      <th>Contributor first name</th>\n",
       "      <th>Contribution amount</th>\n",
       "    </tr>\n",
       "  </thead>\n",
       "  <tbody>\n",
       "    <tr>\n",
       "      <th>0</th>\n",
       "      <td>Registered Party</td>\n",
       "      <td>600</td>\n",
       "      <td>Liberal Party of Canada</td>\n",
       "      <td>Liberal Party of Canada</td>\n",
       "      <td>Annual</td>\n",
       "      <td>1993-12-31</td>\n",
       "      <td>Registered Political Parties Fiscal Period Ret...</td>\n",
       "      <td>Contributions to Political Parties</td>\n",
       "      <td>Individuals</td>\n",
       "      <td>Wilhemina Vancise</td>\n",
       "      <td>Vancise</td>\n",
       "      <td>Wilhemina</td>\n",
       "      <td>500.0</td>\n",
       "    </tr>\n",
       "  </tbody>\n",
       "</table>\n",
       "</div>"
      ],
      "text/plain": [
       "   Political Entity  Recipient ID                Recipient  \\\n",
       "0  Registered Party           600  Liberal Party of Canada   \n",
       "\n",
       "           Political Party Electoral event Fiscal date  \\\n",
       "0  Liberal Party of Canada          Annual  1993-12-31   \n",
       "\n",
       "                                    Financial Report  \\\n",
       "0  Registered Political Parties Fiscal Period Ret...   \n",
       "\n",
       "                Financial Report part Contributor type   Contributor name  \\\n",
       "0  Contributions to Political Parties      Individuals  Wilhemina Vancise   \n",
       "\n",
       "   Contributor last name  Contributor first name  Contribution amount  \n",
       "0                Vancise               Wilhemina                500.0  "
      ]
     },
     "execution_count": 20,
     "metadata": {},
     "output_type": "execute_result"
    }
   ],
   "source": [
    "#no Non-Monetary amount column like other datasets. \n",
    "#this will need tobe added\n",
    "party_93_00.head(1)"
   ]
  },
  {
   "cell_type": "code",
   "execution_count": 21,
   "id": "25565da4-ab89-4883-9968-4c84446f9d94",
   "metadata": {},
   "outputs": [
    {
     "data": {
      "text/plain": [
       "0    0\n",
       "1    0\n",
       "2    0\n",
       "3    0\n",
       "4    0\n",
       "Name: non_monetary_amount, dtype: int64"
      ]
     },
     "execution_count": 21,
     "metadata": {},
     "output_type": "execute_result"
    }
   ],
   "source": [
    "#create non_monetary_amountaccount column with 0 value\n",
    "party_93_00['non_monetary_amount'] = 0\n",
    "party_93_00['non_monetary_amount'].head()"
   ]
  },
  {
   "cell_type": "code",
   "execution_count": 22,
   "id": "71606f48-afa4-443f-968e-80248ae25274",
   "metadata": {},
   "outputs": [
    {
     "data": {
      "text/plain": [
       "((25,), (85,))"
      ]
     },
     "execution_count": 22,
     "metadata": {},
     "output_type": "execute_result"
    }
   ],
   "source": [
    "#recipient ID is not unique for each party so I will use recipient which is\n",
    "party_93_00['Recipient'].value_counts().shape, party_93_00['Recipient ID'].value_counts().shape"
   ]
  },
  {
   "cell_type": "code",
   "execution_count": 23,
   "id": "071dd76d-1b5b-45a0-9940-1814e154034e",
   "metadata": {},
   "outputs": [
    {
     "data": {
      "text/plain": [
       "Index(['Political Entity', 'Recipient ID', 'Recipient', 'Political Party',\n",
       "       'Electoral event', 'Fiscal date', 'Financial Report',\n",
       "       'Financial Report part', 'Contributor type', ' Contributor name',\n",
       "       ' Contributor last name', ' Contributor first name',\n",
       "       'Contribution amount', 'non_monetary_amount'],\n",
       "      dtype='object')"
      ]
     },
     "execution_count": 23,
     "metadata": {},
     "output_type": "execute_result"
    }
   ],
   "source": [
    "party_93_00.columns"
   ]
  },
  {
   "cell_type": "code",
   "execution_count": 24,
   "id": "8e97b471-72df-405d-8633-f4c1153741e0",
   "metadata": {},
   "outputs": [],
   "source": [
    "party_93_00_col_list = [\n",
    "'Political Entity',\n",
    "'Recipient',\n",
    "'Political Party',\n",
    "'Electoral event',\n",
    "'Fiscal date',\n",
    "'Contributor type',\n",
    "' Contributor name',\n",
    "'Contribution amount'\n",
    "]"
   ]
  },
  {
   "cell_type": "code",
   "execution_count": 25,
   "id": "0a021f23-3305-49d0-bcdc-53bf782e0c77",
   "metadata": {},
   "outputs": [],
   "source": [
    "party_93_00 = party_93_00[party_93_00_col_list]"
   ]
  },
  {
   "cell_type": "code",
   "execution_count": 26,
   "id": "87498841-73a0-4b6d-9832-6be949b02d64",
   "metadata": {},
   "outputs": [],
   "source": [
    "party_93_00_col_dict = {\n",
    "'Political Entity':'political_entity',\n",
    "'Recipient':'recipient', \n",
    "'Political Party':'political_party_of_recipient',\n",
    "'Electoral event':'electoral_event', \n",
    "'Fiscal date':'fiscal/election_date', \n",
    "'Contributor type':'contributor_type', \n",
    "' Contributor name':'contributor_name',\n",
    "'Contribution amount':'monetary_amount',\n",
    "}"
   ]
  },
  {
   "cell_type": "code",
   "execution_count": 27,
   "id": "8fb0aa0d-bfa2-4976-ae94-630263132889",
   "metadata": {},
   "outputs": [],
   "source": [
    "party_93_00 = party_93_00.rename(columns = party_93_00_col_dict)"
   ]
  },
  {
   "cell_type": "code",
   "execution_count": 28,
   "id": "3c2568d5-223b-4055-a80d-f9197bd3dd4c",
   "metadata": {},
   "outputs": [
    {
     "data": {
      "text/plain": [
       "((101018, 21), (425659, 8))"
      ]
     },
     "execution_count": 28,
     "metadata": {},
     "output_type": "execute_result"
    }
   ],
   "source": [
    "party_00_04.shape, party_93_00.shape"
   ]
  },
  {
   "cell_type": "code",
   "execution_count": 29,
   "id": "abce9246-793f-4d81-ae98-752056cba4e7",
   "metadata": {},
   "outputs": [
    {
     "data": {
      "text/html": [
       "<div>\n",
       "<style scoped>\n",
       "    .dataframe tbody tr th:only-of-type {\n",
       "        vertical-align: middle;\n",
       "    }\n",
       "\n",
       "    .dataframe tbody tr th {\n",
       "        vertical-align: top;\n",
       "    }\n",
       "\n",
       "    .dataframe thead th {\n",
       "        text-align: right;\n",
       "    }\n",
       "</style>\n",
       "<table border=\"1\" class=\"dataframe\">\n",
       "  <thead>\n",
       "    <tr style=\"text-align: right;\">\n",
       "      <th></th>\n",
       "      <th>Political Entity</th>\n",
       "      <th>Recipient ID</th>\n",
       "      <th>Recipient</th>\n",
       "      <th>Political Party</th>\n",
       "      <th>Electoral event</th>\n",
       "      <th>Fiscal date</th>\n",
       "      <th>Form ID</th>\n",
       "      <th>Financial Report</th>\n",
       "      <th>Part Number of Return</th>\n",
       "      <th>Financial Report part</th>\n",
       "      <th>...</th>\n",
       "      <th>Contributor name</th>\n",
       "      <th>Contributor last name</th>\n",
       "      <th>Contributor first name</th>\n",
       "      <th>Contributor City</th>\n",
       "      <th>Contributor Province</th>\n",
       "      <th>Contributor Postal code</th>\n",
       "      <th>Monetary amount</th>\n",
       "      <th>Non-Monetary amount</th>\n",
       "      <th>Type of organization that contribution was given through</th>\n",
       "      <th>Contribution given through</th>\n",
       "    </tr>\n",
       "  </thead>\n",
       "  <tbody>\n",
       "    <tr>\n",
       "      <th>0</th>\n",
       "      <td>Registered Party</td>\n",
       "      <td>1</td>\n",
       "      <td>Liberal Party of Canada</td>\n",
       "      <td>Liberal Party of Canada</td>\n",
       "      <td>Annual</td>\n",
       "      <td>2001-12-31</td>\n",
       "      <td>20239</td>\n",
       "      <td>Political Party Financial Transactions Return</td>\n",
       "      <td>4</td>\n",
       "      <td>Statement of contributions received: Details o...</td>\n",
       "      <td>...</td>\n",
       "      <td>William 10675 Newfoundland Inc. / Case</td>\n",
       "      <td>10675 Newfoundland Inc. / Case</td>\n",
       "      <td>William</td>\n",
       "      <td>St. Johns</td>\n",
       "      <td>NF</td>\n",
       "      <td>A1C 5W1</td>\n",
       "      <td>438.95</td>\n",
       "      <td>0.0</td>\n",
       "      <td>NaN</td>\n",
       "      <td>NaN</td>\n",
       "    </tr>\n",
       "    <tr>\n",
       "      <th>1</th>\n",
       "      <td>Registered Party</td>\n",
       "      <td>1</td>\n",
       "      <td>Liberal Party of Canada</td>\n",
       "      <td>Liberal Party of Canada</td>\n",
       "      <td>Annual</td>\n",
       "      <td>2001-12-31</td>\n",
       "      <td>20239</td>\n",
       "      <td>Political Party Financial Transactions Return</td>\n",
       "      <td>4</td>\n",
       "      <td>Statement of contributions received: Details o...</td>\n",
       "      <td>...</td>\n",
       "      <td>Sandy 1161925 Ontario Inc. / Abbott</td>\n",
       "      <td>1161925 Ontario Inc. / Abbott</td>\n",
       "      <td>Sandy</td>\n",
       "      <td>Picton</td>\n",
       "      <td>ON</td>\n",
       "      <td>K0K 2T0</td>\n",
       "      <td>1000.00</td>\n",
       "      <td>0.0</td>\n",
       "      <td>NaN</td>\n",
       "      <td>NaN</td>\n",
       "    </tr>\n",
       "  </tbody>\n",
       "</table>\n",
       "<p>2 rows × 21 columns</p>\n",
       "</div>"
      ],
      "text/plain": [
       "   Political Entity  Recipient ID                Recipient  \\\n",
       "0  Registered Party             1  Liberal Party of Canada   \n",
       "1  Registered Party             1  Liberal Party of Canada   \n",
       "\n",
       "           Political Party Electoral event Fiscal date  Form ID  \\\n",
       "0  Liberal Party of Canada          Annual  2001-12-31    20239   \n",
       "1  Liberal Party of Canada          Annual  2001-12-31    20239   \n",
       "\n",
       "                                Financial Report  Part Number of Return  \\\n",
       "0  Political Party Financial Transactions Return                      4   \n",
       "1  Political Party Financial Transactions Return                      4   \n",
       "\n",
       "                               Financial Report part  ...  \\\n",
       "0  Statement of contributions received: Details o...  ...   \n",
       "1  Statement of contributions received: Details o...  ...   \n",
       "\n",
       "                         Contributor name           Contributor last name  \\\n",
       "0  William 10675 Newfoundland Inc. / Case  10675 Newfoundland Inc. / Case   \n",
       "1     Sandy 1161925 Ontario Inc. / Abbott   1161925 Ontario Inc. / Abbott   \n",
       "\n",
       "   Contributor first name Contributor City Contributor Province  \\\n",
       "0                 William        St. Johns                   NF   \n",
       "1                   Sandy           Picton                   ON   \n",
       "\n",
       "  Contributor Postal code Monetary amount  Non-Monetary amount  \\\n",
       "0                 A1C 5W1          438.95                  0.0   \n",
       "1                 K0K 2T0         1000.00                  0.0   \n",
       "\n",
       "   Type of organization that contribution was given through  \\\n",
       "0                                                NaN          \n",
       "1                                                NaN          \n",
       "\n",
       "  Contribution given through  \n",
       "0                        NaN  \n",
       "1                        NaN  \n",
       "\n",
       "[2 rows x 21 columns]"
      ]
     },
     "execution_count": 29,
     "metadata": {},
     "output_type": "execute_result"
    }
   ],
   "source": [
    "party_00_04.head(2)"
   ]
  },
  {
   "cell_type": "code",
   "execution_count": 30,
   "id": "186bbc4f-f793-4bad-ab1e-b252cd8fe04e",
   "metadata": {},
   "outputs": [
    {
     "data": {
      "text/plain": [
       "Index(['Political Entity', 'Recipient ID', 'Recipient', 'Political Party',\n",
       "       'Electoral event', 'Fiscal date', 'Form ID', 'Financial Report',\n",
       "       'Part Number of Return', 'Financial Report part', 'Contributor type',\n",
       "       ' Contributor name', ' Contributor last name',\n",
       "       ' Contributor first name', 'Contributor City', 'Contributor Province',\n",
       "       'Contributor Postal code', 'Monetary amount', 'Non-Monetary amount',\n",
       "       'Type of organization that contribution was given through',\n",
       "       'Contribution given through'],\n",
       "      dtype='object')"
      ]
     },
     "execution_count": 30,
     "metadata": {},
     "output_type": "execute_result"
    }
   ],
   "source": [
    "party_00_04.columns"
   ]
  },
  {
   "cell_type": "code",
   "execution_count": 31,
   "id": "42844ca8-68df-4604-8b3e-bd79b5a7760c",
   "metadata": {},
   "outputs": [],
   "source": [
    "#create list of desired columns from this dataset\n",
    "party_00_04_col_list = [\n",
    "'Political Entity',\n",
    "'Recipient',\n",
    "'Political Party',\n",
    "'Electoral event',\n",
    "'Fiscal date',\n",
    "' Contributor name',\n",
    "'Contributor City',\n",
    "'Contributor Province',\n",
    "'Contributor Postal code',\n",
    "'Monetary amount',\n",
    "'Non-Monetary amount',\n",
    "]"
   ]
  },
  {
   "cell_type": "code",
   "execution_count": 32,
   "id": "2f657e8d-caf0-444e-81c1-ab3549626c70",
   "metadata": {},
   "outputs": [],
   "source": [
    "#remove the unnecessary columns\n",
    "party_00_04 = party_00_04[party_00_04_col_list]"
   ]
  },
  {
   "cell_type": "code",
   "execution_count": 33,
   "id": "81fd34fc-fcf4-4bbc-a6c7-9de1b2b43edb",
   "metadata": {},
   "outputs": [],
   "source": [
    "party_00_04_col_dict = {\n",
    "'Political Entity': 'political_entity',\n",
    "'Recipient':'recipient',\n",
    "'Political Party':'political_party_of_recipient',\n",
    "'Electoral event':'electoral_event',\n",
    "'Fiscal date': 'fiscal/election_date',\n",
    "'Contributor type':'contributor_type',\n",
    "' Contributor name': 'contributor_name',\n",
    "'Contributor City': 'contributor_city',\n",
    "'Contributor Province':'contributor_province',\n",
    "'Contributor Postal code':'contributor_postal_code',\n",
    "'Monetary amount':'monetary_amount',\n",
    "'Non-Monetary amount':'non_monetary_amount',\n",
    "}"
   ]
  },
  {
   "cell_type": "code",
   "execution_count": 34,
   "id": "95c0ca05-84e6-49b6-8e59-0596629369d3",
   "metadata": {},
   "outputs": [],
   "source": [
    "party_00_04 = party_00_04.rename(columns = party_00_04_col_dict)"
   ]
  },
  {
   "cell_type": "code",
   "execution_count": 35,
   "id": "ec857879-3261-4cbb-a9b7-f03636245804",
   "metadata": {},
   "outputs": [
    {
     "data": {
      "text/html": [
       "<div>\n",
       "<style scoped>\n",
       "    .dataframe tbody tr th:only-of-type {\n",
       "        vertical-align: middle;\n",
       "    }\n",
       "\n",
       "    .dataframe tbody tr th {\n",
       "        vertical-align: top;\n",
       "    }\n",
       "\n",
       "    .dataframe thead th {\n",
       "        text-align: right;\n",
       "    }\n",
       "</style>\n",
       "<table border=\"1\" class=\"dataframe\">\n",
       "  <thead>\n",
       "    <tr style=\"text-align: right;\">\n",
       "      <th></th>\n",
       "      <th>political_entity</th>\n",
       "      <th>recipient</th>\n",
       "      <th>political_party_of_recipient</th>\n",
       "      <th>electoral_event</th>\n",
       "      <th>fiscal/election_date</th>\n",
       "      <th>contributor_name</th>\n",
       "      <th>contributor_city</th>\n",
       "      <th>contributor_province</th>\n",
       "      <th>contributor_postal_code</th>\n",
       "      <th>monetary_amount</th>\n",
       "      <th>non_monetary_amount</th>\n",
       "    </tr>\n",
       "  </thead>\n",
       "  <tbody>\n",
       "    <tr>\n",
       "      <th>0</th>\n",
       "      <td>Registered Party</td>\n",
       "      <td>Liberal Party of Canada</td>\n",
       "      <td>Liberal Party of Canada</td>\n",
       "      <td>Annual</td>\n",
       "      <td>2001-12-31</td>\n",
       "      <td>William 10675 Newfoundland Inc. / Case</td>\n",
       "      <td>St. Johns</td>\n",
       "      <td>NF</td>\n",
       "      <td>A1C 5W1</td>\n",
       "      <td>438.95</td>\n",
       "      <td>0.0</td>\n",
       "    </tr>\n",
       "  </tbody>\n",
       "</table>\n",
       "</div>"
      ],
      "text/plain": [
       "   political_entity                recipient political_party_of_recipient  \\\n",
       "0  Registered Party  Liberal Party of Canada      Liberal Party of Canada   \n",
       "\n",
       "  electoral_event fiscal/election_date  \\\n",
       "0          Annual           2001-12-31   \n",
       "\n",
       "                         contributor_name contributor_city  \\\n",
       "0  William 10675 Newfoundland Inc. / Case        St. Johns   \n",
       "\n",
       "  contributor_province contributor_postal_code  monetary_amount  \\\n",
       "0                   NF                 A1C 5W1           438.95   \n",
       "\n",
       "   non_monetary_amount  \n",
       "0                  0.0  "
      ]
     },
     "execution_count": 35,
     "metadata": {},
     "output_type": "execute_result"
    }
   ],
   "source": [
    "party_00_04.head(1)"
   ]
  },
  {
   "cell_type": "code",
   "execution_count": 36,
   "id": "da245d91-95f5-4385-8270-4db3edaef382",
   "metadata": {},
   "outputs": [
    {
     "data": {
      "text/plain": [
       "(5802483, 27)"
      ]
     },
     "execution_count": 36,
     "metadata": {},
     "output_type": "execute_result"
    }
   ],
   "source": [
    "#5.8 million entries in this dataset\n",
    "all_04_24.shape"
   ]
  },
  {
   "cell_type": "code",
   "execution_count": 37,
   "id": "4a7bda36-4914-48f9-a35b-796a63361168",
   "metadata": {},
   "outputs": [
    {
     "data": {
      "text/html": [
       "<div>\n",
       "<style scoped>\n",
       "    .dataframe tbody tr th:only-of-type {\n",
       "        vertical-align: middle;\n",
       "    }\n",
       "\n",
       "    .dataframe tbody tr th {\n",
       "        vertical-align: top;\n",
       "    }\n",
       "\n",
       "    .dataframe thead th {\n",
       "        text-align: right;\n",
       "    }\n",
       "</style>\n",
       "<table border=\"1\" class=\"dataframe\">\n",
       "  <thead>\n",
       "    <tr style=\"text-align: right;\">\n",
       "      <th></th>\n",
       "      <th>ï»¿Political Entity</th>\n",
       "      <th>Recipient ID</th>\n",
       "      <th>Recipient</th>\n",
       "      <th>Recipient last name</th>\n",
       "      <th>Recipient first name</th>\n",
       "      <th>Recipient middle initial</th>\n",
       "      <th>Political Party of Recipient</th>\n",
       "      <th>Electoral District</th>\n",
       "      <th>Electoral event</th>\n",
       "      <th>Fiscal/Election date</th>\n",
       "      <th>...</th>\n",
       "      <th>Contributor first name</th>\n",
       "      <th>Contributor middle initial</th>\n",
       "      <th>Contributor City</th>\n",
       "      <th>Contributor Province</th>\n",
       "      <th>Contributor Postal code</th>\n",
       "      <th>Contribution Received date</th>\n",
       "      <th>Monetary amount</th>\n",
       "      <th>Non-Monetary amount</th>\n",
       "      <th>Contribution given through</th>\n",
       "      <th>Leadership contestant</th>\n",
       "    </tr>\n",
       "  </thead>\n",
       "  <tbody>\n",
       "    <tr>\n",
       "      <th>0</th>\n",
       "      <td>ï»¿Candidates</td>\n",
       "      <td>4944</td>\n",
       "      <td>Desjarlais, Bev</td>\n",
       "      <td>Desjarlais</td>\n",
       "      <td>Bev</td>\n",
       "      <td>NaN</td>\n",
       "      <td>New Democratic Party</td>\n",
       "      <td>Churchill</td>\n",
       "      <td>38th general election</td>\n",
       "      <td>2004-06-28</td>\n",
       "      <td>...</td>\n",
       "      <td>NaN</td>\n",
       "      <td>NaN</td>\n",
       "      <td>Thompson</td>\n",
       "      <td>MB</td>\n",
       "      <td>R8N1S7</td>\n",
       "      <td>NaN</td>\n",
       "      <td>10000.0</td>\n",
       "      <td>0.0</td>\n",
       "      <td>NaN</td>\n",
       "      <td>NaN</td>\n",
       "    </tr>\n",
       "    <tr>\n",
       "      <th>1</th>\n",
       "      <td>Candidates</td>\n",
       "      <td>4944</td>\n",
       "      <td>Desjarlais, Bev</td>\n",
       "      <td>Desjarlais</td>\n",
       "      <td>Bev</td>\n",
       "      <td>NaN</td>\n",
       "      <td>New Democratic Party</td>\n",
       "      <td>Churchill</td>\n",
       "      <td>38th general election</td>\n",
       "      <td>2004-06-28</td>\n",
       "      <td>...</td>\n",
       "      <td></td>\n",
       "      <td>NaN</td>\n",
       "      <td>Thompson</td>\n",
       "      <td>MB</td>\n",
       "      <td>R8N1S7</td>\n",
       "      <td>NaN</td>\n",
       "      <td>10000.0</td>\n",
       "      <td>0.0</td>\n",
       "      <td>NaN</td>\n",
       "      <td>NaN</td>\n",
       "    </tr>\n",
       "    <tr>\n",
       "      <th>2</th>\n",
       "      <td>Candidates</td>\n",
       "      <td>4944</td>\n",
       "      <td>Desjarlais, Bev</td>\n",
       "      <td>Desjarlais</td>\n",
       "      <td>Bev</td>\n",
       "      <td>NaN</td>\n",
       "      <td>New Democratic Party</td>\n",
       "      <td>Churchill</td>\n",
       "      <td>38th general election</td>\n",
       "      <td>2004-06-28</td>\n",
       "      <td>...</td>\n",
       "      <td>NaN</td>\n",
       "      <td>NaN</td>\n",
       "      <td>Vancouver</td>\n",
       "      <td>BC</td>\n",
       "      <td>V5Z1G1</td>\n",
       "      <td>NaN</td>\n",
       "      <td>1500.0</td>\n",
       "      <td>0.0</td>\n",
       "      <td>NaN</td>\n",
       "      <td>NaN</td>\n",
       "    </tr>\n",
       "    <tr>\n",
       "      <th>3</th>\n",
       "      <td>Candidates</td>\n",
       "      <td>4716</td>\n",
       "      <td>BÃ©chard, Bruno-Marie</td>\n",
       "      <td>BÃ©chard</td>\n",
       "      <td>Bruno-Marie</td>\n",
       "      <td>NaN</td>\n",
       "      <td>Liberal Party of Canada</td>\n",
       "      <td>Sherbrooke</td>\n",
       "      <td>38th general election</td>\n",
       "      <td>2004-06-28</td>\n",
       "      <td>...</td>\n",
       "      <td>SYLVAIN</td>\n",
       "      <td>NaN</td>\n",
       "      <td>Sherbrooke</td>\n",
       "      <td>QC</td>\n",
       "      <td>J1J 4N3</td>\n",
       "      <td>NaN</td>\n",
       "      <td>400.0</td>\n",
       "      <td>0.0</td>\n",
       "      <td>NaN</td>\n",
       "      <td>NaN</td>\n",
       "    </tr>\n",
       "    <tr>\n",
       "      <th>4</th>\n",
       "      <td>Candidates</td>\n",
       "      <td>4716</td>\n",
       "      <td>BÃ©chard, Bruno-Marie</td>\n",
       "      <td>BÃ©chard</td>\n",
       "      <td>Bruno-Marie</td>\n",
       "      <td>NaN</td>\n",
       "      <td>Liberal Party of Canada</td>\n",
       "      <td>Sherbrooke</td>\n",
       "      <td>38th general election</td>\n",
       "      <td>2004-06-28</td>\n",
       "      <td>...</td>\n",
       "      <td>CHARLOTTE</td>\n",
       "      <td>NaN</td>\n",
       "      <td>Eaton</td>\n",
       "      <td>QC</td>\n",
       "      <td>J1M 2A2</td>\n",
       "      <td>NaN</td>\n",
       "      <td>500.0</td>\n",
       "      <td>0.0</td>\n",
       "      <td>NaN</td>\n",
       "      <td>NaN</td>\n",
       "    </tr>\n",
       "  </tbody>\n",
       "</table>\n",
       "<p>5 rows × 27 columns</p>\n",
       "</div>"
      ],
      "text/plain": [
       "  ï»¿Political Entity  Recipient ID              Recipient  \\\n",
       "0       ï»¿Candidates          4944        Desjarlais, Bev   \n",
       "1          Candidates          4944        Desjarlais, Bev   \n",
       "2          Candidates          4944        Desjarlais, Bev   \n",
       "3          Candidates          4716  BÃ©chard, Bruno-Marie   \n",
       "4          Candidates          4716  BÃ©chard, Bruno-Marie   \n",
       "\n",
       "  Recipient last name Recipient first name Recipient middle initial  \\\n",
       "0          Desjarlais                  Bev                      NaN   \n",
       "1          Desjarlais                  Bev                      NaN   \n",
       "2          Desjarlais                  Bev                      NaN   \n",
       "3            BÃ©chard          Bruno-Marie                      NaN   \n",
       "4            BÃ©chard          Bruno-Marie                      NaN   \n",
       "\n",
       "  Political Party of Recipient Electoral District        Electoral event  \\\n",
       "0         New Democratic Party          Churchill  38th general election   \n",
       "1         New Democratic Party          Churchill  38th general election   \n",
       "2         New Democratic Party          Churchill  38th general election   \n",
       "3      Liberal Party of Canada         Sherbrooke  38th general election   \n",
       "4      Liberal Party of Canada         Sherbrooke  38th general election   \n",
       "\n",
       "  Fiscal/Election date  ... Contributor first name Contributor middle initial  \\\n",
       "0           2004-06-28  ...                    NaN                        NaN   \n",
       "1           2004-06-28  ...                                               NaN   \n",
       "2           2004-06-28  ...                    NaN                        NaN   \n",
       "3           2004-06-28  ...                SYLVAIN                        NaN   \n",
       "4           2004-06-28  ...              CHARLOTTE                        NaN   \n",
       "\n",
       "  Contributor City Contributor Province Contributor Postal code  \\\n",
       "0         Thompson                   MB                  R8N1S7   \n",
       "1         Thompson                   MB                  R8N1S7   \n",
       "2        Vancouver                   BC                  V5Z1G1   \n",
       "3       Sherbrooke                   QC                 J1J 4N3   \n",
       "4            Eaton                   QC                 J1M 2A2   \n",
       "\n",
       "  Contribution Received date Monetary amount Non-Monetary amount  \\\n",
       "0                        NaN         10000.0                 0.0   \n",
       "1                        NaN         10000.0                 0.0   \n",
       "2                        NaN          1500.0                 0.0   \n",
       "3                        NaN           400.0                 0.0   \n",
       "4                        NaN           500.0                 0.0   \n",
       "\n",
       "  Contribution given through Leadership contestant  \n",
       "0                        NaN                   NaN  \n",
       "1                        NaN                   NaN  \n",
       "2                        NaN                   NaN  \n",
       "3                        NaN                   NaN  \n",
       "4                        NaN                   NaN  \n",
       "\n",
       "[5 rows x 27 columns]"
      ]
     },
     "execution_count": 37,
     "metadata": {},
     "output_type": "execute_result"
    }
   ],
   "source": [
    "all_04_24.head(5)"
   ]
  },
  {
   "cell_type": "code",
   "execution_count": 38,
   "id": "18f968e3-4e25-4154-8cea-b7f3bca26fdb",
   "metadata": {},
   "outputs": [],
   "source": [
    "#create list of desired columns\n",
    "all_04_24_col_list = [\n",
    "'ï»¿Political Entity',\n",
    "'Recipient', \n",
    "'Political Party of Recipient',\n",
    "'Electoral District',\n",
    "'Electoral event', \n",
    "'Fiscal/Election date',\n",
    "'Contributor type',\n",
    "'Contributor name',\n",
    "'Contributor City',\n",
    "'Contributor Province',\n",
    "'Contributor Postal code',\n",
    "'Contribution Received date',\n",
    "'Monetary amount', \n",
    "'Non-Monetary amount',\n",
    "'Leadership contestant'\n",
    "]"
   ]
  },
  {
   "cell_type": "code",
   "execution_count": 39,
   "id": "4b0e316e-9b28-4532-8016-125bede51a3f",
   "metadata": {},
   "outputs": [],
   "source": [
    "\n",
    "all_04_24 = all_04_24[all_04_24_col_list]"
   ]
  },
  {
   "cell_type": "code",
   "execution_count": 40,
   "id": "0a8ec11b-c08b-45b7-b21e-d285c2c655e5",
   "metadata": {},
   "outputs": [],
   "source": [
    "#reformat column names\n",
    "all_04_24_col_dict = {\n",
    "'ï»¿Political Entity': 'political_entity',\n",
    "'Recipient':'recipient', \n",
    "'Political Party of Recipient':'political_party_of_recipient',\n",
    "'Electoral District':'electoral_district',\n",
    "'Electoral event':'electoral_event', \n",
    "'Fiscal/Election date':'fiscal/election_date',\n",
    "'Contributor type':'contributor_type',\n",
    "'Contributor name': 'contributor_name',\n",
    "'Contributor City':'contributor_city',\n",
    "'Contributor Province':'contributor_province',\n",
    "'Contributor Postal code':'contributor_postal_code',\n",
    "'Contribution Received date':'contribution_received_date',\n",
    "'Monetary amount':'monetary_amount', \n",
    "'Non-Monetary amount':'non_monetary_amount',\n",
    "'Leadership contestant': 'leadership_contestant'\n",
    "}"
   ]
  },
  {
   "cell_type": "code",
   "execution_count": 41,
   "id": "625f099a-81a6-4101-b308-3437ad3e11f3",
   "metadata": {},
   "outputs": [],
   "source": [
    "#replace column names with new ones\n",
    "all_04_24 = all_04_24.rename(columns = all_04_24_col_dict)"
   ]
  },
  {
   "cell_type": "code",
   "execution_count": 42,
   "id": "623b1089-e251-4df5-8247-ee177e2acdeb",
   "metadata": {},
   "outputs": [
    {
     "data": {
      "text/plain": [
       "Index(['political_entity', 'recipient', 'political_party_of_recipient',\n",
       "       'electoral_district', 'electoral_event', 'fiscal/election_date',\n",
       "       'contributor_type', 'contributor_name', 'contributor_city',\n",
       "       'contributor_province', 'contributor_postal_code',\n",
       "       'contribution_received_date', 'monetary_amount', 'non_monetary_amount',\n",
       "       'leadership_contestant'],\n",
       "      dtype='object')"
      ]
     },
     "execution_count": 42,
     "metadata": {},
     "output_type": "execute_result"
    }
   ],
   "source": [
    "#checking new column names\n",
    "all_04_24.columns"
   ]
  },
  {
   "cell_type": "markdown",
   "id": "4bef0e00-13c9-4d18-9a9b-35c67653f55f",
   "metadata": {},
   "source": [
    "# Examine Na Values"
   ]
  },
  {
   "cell_type": "markdown",
   "id": "e7e40902-6a56-4958-a052-d22ac0298198",
   "metadata": {},
   "source": [
    "## Can_00_04"
   ]
  },
  {
   "cell_type": "code",
   "execution_count": 45,
   "id": "e5b6c359-95e0-4f08-b229-dff63d0b4b52",
   "metadata": {},
   "outputs": [
    {
     "data": {
      "text/plain": [
       "political_entity                    0\n",
       "recipient                           0\n",
       "political_party_of_recipient        0\n",
       "electoral_district                  0\n",
       "electoral_event                     0\n",
       "fiscal/election_date                0\n",
       "contributor_type                   62\n",
       "contributor_name                 1503\n",
       "contributor_city                 1813\n",
       "contributor_province             2052\n",
       "contributor_postal_code          2192\n",
       "monetary_amount                  1314\n",
       "non_monetary_amount             36433\n",
       "dtype: int64"
      ]
     },
     "execution_count": 45,
     "metadata": {},
     "output_type": "execute_result"
    }
   ],
   "source": [
    "can_00_04.isna().sum()"
   ]
  },
  {
   "cell_type": "markdown",
   "id": "bfeecfd1-9cc5-4f08-ae99-29954b3966c0",
   "metadata": {},
   "source": [
    "### Can_00_04 Monetary/Non_Monetary Nan"
   ]
  },
  {
   "cell_type": "code",
   "execution_count": 47,
   "id": "b7c6e53f-bc07-4d66-be3e-83d16a1b2070",
   "metadata": {},
   "outputs": [
    {
     "data": {
      "text/html": [
       "<div>\n",
       "<style scoped>\n",
       "    .dataframe tbody tr th:only-of-type {\n",
       "        vertical-align: middle;\n",
       "    }\n",
       "\n",
       "    .dataframe tbody tr th {\n",
       "        vertical-align: top;\n",
       "    }\n",
       "\n",
       "    .dataframe thead th {\n",
       "        text-align: right;\n",
       "    }\n",
       "</style>\n",
       "<table border=\"1\" class=\"dataframe\">\n",
       "  <thead>\n",
       "    <tr style=\"text-align: right;\">\n",
       "      <th></th>\n",
       "      <th>political_entity</th>\n",
       "      <th>recipient</th>\n",
       "      <th>political_party_of_recipient</th>\n",
       "      <th>electoral_district</th>\n",
       "      <th>electoral_event</th>\n",
       "      <th>fiscal/election_date</th>\n",
       "      <th>contributor_type</th>\n",
       "      <th>contributor_name</th>\n",
       "      <th>contributor_city</th>\n",
       "      <th>contributor_province</th>\n",
       "      <th>contributor_postal_code</th>\n",
       "      <th>monetary_amount</th>\n",
       "      <th>non_monetary_amount</th>\n",
       "    </tr>\n",
       "  </thead>\n",
       "  <tbody>\n",
       "  </tbody>\n",
       "</table>\n",
       "</div>"
      ],
      "text/plain": [
       "Empty DataFrame\n",
       "Columns: [political_entity, recipient, political_party_of_recipient, electoral_district, electoral_event, fiscal/election_date, contributor_type, contributor_name, contributor_city, contributor_province, contributor_postal_code, monetary_amount, non_monetary_amount]\n",
       "Index: []"
      ]
     },
     "execution_count": 47,
     "metadata": {},
     "output_type": "execute_result"
    }
   ],
   "source": [
    "#entries where monetary_amount is na and where non_monetry_amount are na do not exist.\n",
    "#while values where monetary_amount isna have non_monetary_amounts and where non_monetary_amount are na \n",
    "##monetary_amount has a value. I take this to mean all na values should be 0 \n",
    "can_00_04.loc[(can_00_04['monetary_amount'].isna()) & can_00_04['non_monetary_amount'].isna()].head()"
   ]
  },
  {
   "cell_type": "code",
   "execution_count": 48,
   "id": "9dade2d3-d4eb-46ab-96c9-5ed8e23676fb",
   "metadata": {},
   "outputs": [],
   "source": [
    "#fillna values with 0\n",
    "can_00_04[['monetary_amount','non_monetary_amount']] = can_00_04[['monetary_amount','non_monetary_amount']].fillna(0)\n"
   ]
  },
  {
   "cell_type": "code",
   "execution_count": 49,
   "id": "710f8b6b-369c-4292-8b63-6afaff4e599c",
   "metadata": {},
   "outputs": [
    {
     "data": {
      "text/plain": [
       "monetary_amount        0\n",
       "non_monetary_amount    0\n",
       "dtype: int64"
      ]
     },
     "execution_count": 49,
     "metadata": {},
     "output_type": "execute_result"
    }
   ],
   "source": [
    "#na values removed\n",
    "can_00_04[['monetary_amount', 'non_monetary_amount']].isna().sum()"
   ]
  },
  {
   "cell_type": "markdown",
   "id": "49b9c90f-0bd6-4e7b-91dd-a208b0f5f32d",
   "metadata": {},
   "source": [
    "### Can_00_04 Contributer Nan"
   ]
  },
  {
   "cell_type": "code",
   "execution_count": 51,
   "id": "e611d1e5-50ea-460c-9772-c3013291bacb",
   "metadata": {},
   "outputs": [],
   "source": [
    "cont_cols = ['contributor_type',  \n",
    "'contributor_name', \n",
    "'contributor_city', \n",
    "'contributor_province',  \n",
    "'contributor_postal_code' ]"
   ]
  },
  {
   "cell_type": "code",
   "execution_count": 52,
   "id": "e2c8df5f-83a6-44c4-8e32-8dcb22be3628",
   "metadata": {},
   "outputs": [
    {
     "data": {
      "text/plain": [
       "(39920, 13)"
      ]
     },
     "execution_count": 52,
     "metadata": {},
     "output_type": "execute_result"
    }
   ],
   "source": [
    "can_00_04.shape"
   ]
  },
  {
   "cell_type": "code",
   "execution_count": 53,
   "id": "296063c6-cbd4-42cf-8534-f43cbe5a71e7",
   "metadata": {},
   "outputs": [
    {
     "data": {
      "text/plain": [
       "contributor_type             62\n",
       "contributor_name           1503\n",
       "contributor_city           1813\n",
       "contributor_province       2052\n",
       "contributor_postal_code    2192\n",
       "dtype: int64"
      ]
     },
     "execution_count": 53,
     "metadata": {},
     "output_type": "execute_result"
    }
   ],
   "source": [
    "can_00_04[cont_cols].isna().sum()"
   ]
  },
  {
   "cell_type": "code",
   "execution_count": 54,
   "id": "d36cd6d0-0d96-4e1e-aed9-a214d0014107",
   "metadata": {},
   "outputs": [
    {
     "data": {
      "text/plain": [
       "(17, 5)"
      ]
     },
     "execution_count": 54,
     "metadata": {},
     "output_type": "execute_result"
    }
   ],
   "source": [
    "#postal code can be used to find the city of the contribution\n",
    "#17 rows is not worth the time however\n",
    "can_00_04[cont_cols].loc[\n",
    "(can_00_04['contributor_city'].isna()) &\n",
    "(can_00_04['contributor_postal_code'].isna() == False)].shape"
   ]
  },
  {
   "cell_type": "code",
   "execution_count": 55,
   "id": "ff22001b-9cbc-4be1-8c7b-8fabe14cf420",
   "metadata": {},
   "outputs": [
    {
     "data": {
      "text/plain": [
       "(207, 5)"
      ]
     },
     "execution_count": 55,
     "metadata": {},
     "output_type": "execute_result"
    }
   ],
   "source": [
    "#postal code can be used to find the province of the contribution\n",
    "#neither is 207 rows worth filling with postal code information\n",
    "can_00_04[cont_cols].loc[\n",
    "(can_00_04['contributor_province'].isna()) &\n",
    "(can_00_04['contributor_postal_code'].isna() == False)].shape"
   ]
  },
  {
   "cell_type": "code",
   "execution_count": 56,
   "id": "c89ba3d7-32e8-4b4a-abfd-48d115a8d4f5",
   "metadata": {},
   "outputs": [
    {
     "data": {
      "text/plain": [
       "(264, 5)"
      ]
     },
     "execution_count": 56,
     "metadata": {},
     "output_type": "execute_result"
    }
   ],
   "source": [
    "#city can be used to find the province of the contribution\n",
    "# 264 rows is not worth the time to fill\n",
    "can_00_04[cont_cols].loc[\n",
    "(can_00_04['contributor_city'].isna() == False) &\n",
    "(can_00_04['contributor_province'].isna())].shape"
   ]
  },
  {
   "cell_type": "code",
   "execution_count": 57,
   "id": "3f84ef37-e487-46e5-99b8-2c16fa4c2080",
   "metadata": {},
   "outputs": [],
   "source": [
    "#I've decided to fill contributor Nan values with unkown \n",
    "can_00_04[cont_cols]  = can_00_04[cont_cols].fillna('unknown')"
   ]
  },
  {
   "cell_type": "markdown",
   "id": "ec836a49-943a-4f06-af14-f9f9d07d9ae4",
   "metadata": {},
   "source": [
    "## Can_93_99"
   ]
  },
  {
   "cell_type": "code",
   "execution_count": 59,
   "id": "0093e1e8-439e-4f1a-bbc9-944de6f1d6c3",
   "metadata": {},
   "outputs": [
    {
     "data": {
      "text/plain": [
       "political_entity                    0\n",
       "recipient                           0\n",
       "political_party_of_recipient        0\n",
       "electoral_district                  0\n",
       "electoral_event                     0\n",
       "fiscal/election_date                0\n",
       "contributor_type                  291\n",
       "contributor_name                    0\n",
       "monetary_amount                  8752\n",
       "non_monetary_amount             91540\n",
       "dtype: int64"
      ]
     },
     "execution_count": 59,
     "metadata": {},
     "output_type": "execute_result"
    }
   ],
   "source": [
    "#check next dataset for na values\n",
    "can_93_99.isna().sum()"
   ]
  },
  {
   "cell_type": "markdown",
   "id": "20851e29-5ab2-424e-b106-4ea132a30aaa",
   "metadata": {},
   "source": [
    "### Can_93_99 Monetary/Non_Monetary Nan"
   ]
  },
  {
   "cell_type": "code",
   "execution_count": 61,
   "id": "7ac764ba-0196-4f19-a1ff-62bcc5a4c3d8",
   "metadata": {},
   "outputs": [
    {
     "data": {
      "text/html": [
       "<div>\n",
       "<style scoped>\n",
       "    .dataframe tbody tr th:only-of-type {\n",
       "        vertical-align: middle;\n",
       "    }\n",
       "\n",
       "    .dataframe tbody tr th {\n",
       "        vertical-align: top;\n",
       "    }\n",
       "\n",
       "    .dataframe thead th {\n",
       "        text-align: right;\n",
       "    }\n",
       "</style>\n",
       "<table border=\"1\" class=\"dataframe\">\n",
       "  <thead>\n",
       "    <tr style=\"text-align: right;\">\n",
       "      <th></th>\n",
       "      <th>political_entity</th>\n",
       "      <th>recipient</th>\n",
       "      <th>political_party_of_recipient</th>\n",
       "      <th>electoral_district</th>\n",
       "      <th>electoral_event</th>\n",
       "      <th>fiscal/election_date</th>\n",
       "      <th>contributor_type</th>\n",
       "      <th>contributor_name</th>\n",
       "      <th>monetary_amount</th>\n",
       "      <th>non_monetary_amount</th>\n",
       "    </tr>\n",
       "  </thead>\n",
       "  <tbody>\n",
       "    <tr>\n",
       "      <th>1553</th>\n",
       "      <td>Candidate</td>\n",
       "      <td>Easton, Bruck</td>\n",
       "      <td>Progressive Conservative</td>\n",
       "      <td>Windsor--St. Clair</td>\n",
       "      <td>36th General Election</td>\n",
       "      <td>1997-12-15</td>\n",
       "      <td>NaN</td>\n",
       "      <td>Purchase of Wooden Stakes by WDR Riverside P.C.</td>\n",
       "      <td>NaN</td>\n",
       "      <td>NaN</td>\n",
       "    </tr>\n",
       "    <tr>\n",
       "      <th>1653</th>\n",
       "      <td>Candidate</td>\n",
       "      <td>Wiberg, Daryl</td>\n",
       "      <td>Reform</td>\n",
       "      <td>Churchill River</td>\n",
       "      <td>36th General Election</td>\n",
       "      <td>1997-12-15</td>\n",
       "      <td>NaN</td>\n",
       "      <td>CHURCHILL RIVER REFORM</td>\n",
       "      <td>NaN</td>\n",
       "      <td>NaN</td>\n",
       "    </tr>\n",
       "    <tr>\n",
       "      <th>2441</th>\n",
       "      <td>Candidate</td>\n",
       "      <td>Finestone, Sheila</td>\n",
       "      <td>Liberal</td>\n",
       "      <td>Mount Royal</td>\n",
       "      <td>36th General Election</td>\n",
       "      <td>1997-12-15</td>\n",
       "      <td>NaN</td>\n",
       "      <td>Canada Post (overpayment error)</td>\n",
       "      <td>NaN</td>\n",
       "      <td>NaN</td>\n",
       "    </tr>\n",
       "    <tr>\n",
       "      <th>2845</th>\n",
       "      <td>Candidate</td>\n",
       "      <td>Byrne, Gerry</td>\n",
       "      <td>Liberal</td>\n",
       "      <td>Humber--St. Barbe--Baie Verte</td>\n",
       "      <td>36th General Election</td>\n",
       "      <td>1997-12-15</td>\n",
       "      <td>NaN</td>\n",
       "      <td>Gerry Byrne</td>\n",
       "      <td>NaN</td>\n",
       "      <td>NaN</td>\n",
       "    </tr>\n",
       "    <tr>\n",
       "      <th>3431</th>\n",
       "      <td>Candidate</td>\n",
       "      <td>Lamping, Terry</td>\n",
       "      <td>Reform</td>\n",
       "      <td>Burlington</td>\n",
       "      <td>36th General Election</td>\n",
       "      <td>1997-12-15</td>\n",
       "      <td>NaN</td>\n",
       "      <td>BURL HYDRO REBATE</td>\n",
       "      <td>NaN</td>\n",
       "      <td>NaN</td>\n",
       "    </tr>\n",
       "  </tbody>\n",
       "</table>\n",
       "</div>"
      ],
      "text/plain": [
       "     political_entity          recipient political_party_of_recipient  \\\n",
       "1553        Candidate      Easton, Bruck     Progressive Conservative   \n",
       "1653        Candidate      Wiberg, Daryl                       Reform   \n",
       "2441        Candidate  Finestone, Sheila                      Liberal   \n",
       "2845        Candidate       Byrne, Gerry                      Liberal   \n",
       "3431        Candidate     Lamping, Terry                       Reform   \n",
       "\n",
       "                 electoral_district        electoral_event  \\\n",
       "1553             Windsor--St. Clair  36th General Election   \n",
       "1653                Churchill River  36th General Election   \n",
       "2441                    Mount Royal  36th General Election   \n",
       "2845  Humber--St. Barbe--Baie Verte  36th General Election   \n",
       "3431                     Burlington  36th General Election   \n",
       "\n",
       "     fiscal/election_date contributor_type  \\\n",
       "1553           1997-12-15              NaN   \n",
       "1653           1997-12-15              NaN   \n",
       "2441           1997-12-15              NaN   \n",
       "2845           1997-12-15              NaN   \n",
       "3431           1997-12-15              NaN   \n",
       "\n",
       "                                     contributor_name  monetary_amount  \\\n",
       "1553  Purchase of Wooden Stakes by WDR Riverside P.C.              NaN   \n",
       "1653                           CHURCHILL RIVER REFORM              NaN   \n",
       "2441                  Canada Post (overpayment error)              NaN   \n",
       "2845                                      Gerry Byrne              NaN   \n",
       "3431                                BURL HYDRO REBATE              NaN   \n",
       "\n",
       "      non_monetary_amount  \n",
       "1553                  NaN  \n",
       "1653                  NaN  \n",
       "2441                  NaN  \n",
       "2845                  NaN  \n",
       "3431                  NaN  "
      ]
     },
     "execution_count": 61,
     "metadata": {},
     "output_type": "execute_result"
    }
   ],
   "source": [
    "#there are a number of contributions where the monetary and non monetary value are both NaN\n",
    "can_93_99.loc[(can_93_99['monetary_amount'].isna()) & can_93_99['non_monetary_amount'].isna()].head()"
   ]
  },
  {
   "cell_type": "code",
   "execution_count": null,
   "id": "bedc1fd5-3fb0-400a-9418-a16efb2d6941",
   "metadata": {},
   "outputs": [],
   "source": []
  },
  {
   "cell_type": "code",
   "execution_count": 62,
   "id": "737f0546-0307-444f-b340-81e275c6ab69",
   "metadata": {},
   "outputs": [
    {
     "data": {
      "text/plain": [
       "291"
      ]
     },
     "execution_count": 62,
     "metadata": {},
     "output_type": "execute_result"
    }
   ],
   "source": [
    "#entries with Nan values in both monetary and non monetary do not add value to a political entity and will be dropped\n",
    "can_93_99_moneyna = can_93_99.loc[(can_93_99['monetary_amount'].isna()) & can_93_99['non_monetary_amount'].isna()].index\n",
    "#291 entries will be dropped\n",
    "can_93_99.shape[0] - can_93_99.drop(index = can_93_99_moneyna).shape[0]"
   ]
  },
  {
   "cell_type": "code",
   "execution_count": 63,
   "id": "f59aebfa-e8ab-4477-9c9c-45696767c55f",
   "metadata": {},
   "outputs": [],
   "source": [
    "#remove values with Nan in both monetary and non monetary amounts\n",
    "can_93_99 = can_93_99.drop(index = can_93_99_moneyna)"
   ]
  },
  {
   "cell_type": "code",
   "execution_count": 64,
   "id": "2ec96143-bc26-4213-957e-a30d75f2e729",
   "metadata": {},
   "outputs": [
    {
     "data": {
      "text/plain": [
       "(99710, 10)"
      ]
     },
     "execution_count": 64,
     "metadata": {},
     "output_type": "execute_result"
    }
   ],
   "source": [
    "can_93_99.shape"
   ]
  },
  {
   "cell_type": "code",
   "execution_count": 65,
   "id": "9ca7ea39-8a8d-40e5-81fd-bbd573a6e357",
   "metadata": {},
   "outputs": [
    {
     "data": {
      "text/plain": [
       "(8461, 10)"
      ]
     },
     "execution_count": 65,
     "metadata": {},
     "output_type": "execute_result"
    }
   ],
   "source": [
    "#all remaining Nan values in the monetary and non monetary colummns can now be converted to 0\n",
    "can_93_99.loc[(can_93_99['monetary_amount'].isna()) & can_93_99['non_monetary_amount'] > 0].shape"
   ]
  },
  {
   "cell_type": "code",
   "execution_count": 66,
   "id": "452a6e75-71bf-490e-a0a1-83317879aadc",
   "metadata": {},
   "outputs": [],
   "source": [
    "#fill the na values in monetary and non monetary values\n",
    "can_93_99[['monetary_amount', 'non_monetary_amount']] = can_93_99[['monetary_amount', 'non_monetary_amount']].fillna(0)"
   ]
  },
  {
   "cell_type": "code",
   "execution_count": 67,
   "id": "8af8ad86-f645-48f2-8d19-b74fe6ad2681",
   "metadata": {},
   "outputs": [
    {
     "data": {
      "text/plain": [
       "political_entity                0\n",
       "recipient                       0\n",
       "political_party_of_recipient    0\n",
       "electoral_district              0\n",
       "electoral_event                 0\n",
       "fiscal/election_date            0\n",
       "contributor_type                0\n",
       "contributor_name                0\n",
       "monetary_amount                 0\n",
       "non_monetary_amount             0\n",
       "dtype: int64"
      ]
     },
     "execution_count": 67,
     "metadata": {},
     "output_type": "execute_result"
    }
   ],
   "source": [
    "#there are no remaining na values\n",
    "can_93_99.isna().sum()"
   ]
  },
  {
   "cell_type": "markdown",
   "id": "56966d75-5c6d-458b-b5af-8cec10f4b0bc",
   "metadata": {},
   "source": [
    "## Party_00_04"
   ]
  },
  {
   "cell_type": "code",
   "execution_count": 69,
   "id": "f1805a74-9cbe-412d-b842-d1ce365a8e0c",
   "metadata": {},
   "outputs": [
    {
     "data": {
      "text/plain": [
       "political_entity                0.000000\n",
       "recipient                       0.000000\n",
       "political_party_of_recipient    0.000000\n",
       "electoral_event                 0.000000\n",
       "fiscal/election_date            0.000000\n",
       "contributor_name                0.000000\n",
       "contributor_city                0.000544\n",
       "contributor_province            0.002386\n",
       "contributor_postal_code         0.002059\n",
       "monetary_amount                 0.000000\n",
       "non_monetary_amount             0.000000\n",
       "dtype: float64"
      ]
     },
     "execution_count": 69,
     "metadata": {},
     "output_type": "execute_result"
    }
   ],
   "source": [
    "party_00_04.isna().sum()/party_00_04.shape[0]"
   ]
  },
  {
   "cell_type": "markdown",
   "id": "30b7d72f-01cb-4e3b-930b-cae7fa3298fa",
   "metadata": {},
   "source": [
    "### Party_00_04 Contributor Location Nan"
   ]
  },
  {
   "cell_type": "code",
   "execution_count": 71,
   "id": "58db0ec4-3f10-41f5-8426-4cde061acacb",
   "metadata": {},
   "outputs": [],
   "source": [
    "party_00_04[['contributor_city',\n",
    "'contributor_province',\n",
    "'contributor_postal_code']] = party_00_04[['contributor_city',\n",
    "'contributor_province',\n",
    "'contributor_postal_code']].fillna('unknown')"
   ]
  },
  {
   "cell_type": "markdown",
   "id": "1da3c618-6f39-4476-a4a1-7e7c97024a4e",
   "metadata": {},
   "source": [
    "## Party_93_00"
   ]
  },
  {
   "cell_type": "code",
   "execution_count": 73,
   "id": "cab20f14-164f-48a5-b928-887461ab6bd1",
   "metadata": {},
   "outputs": [
    {
     "data": {
      "text/plain": [
       "political_entity                0\n",
       "recipient                       0\n",
       "political_party_of_recipient    0\n",
       "electoral_event                 0\n",
       "fiscal/election_date            0\n",
       "contributor_type                0\n",
       "contributor_name                8\n",
       "monetary_amount                 0\n",
       "dtype: int64"
      ]
     },
     "execution_count": 73,
     "metadata": {},
     "output_type": "execute_result"
    }
   ],
   "source": [
    "#dataset has no Nan values\n",
    "party_93_00.isna().sum()"
   ]
  },
  {
   "cell_type": "code",
   "execution_count": 74,
   "id": "87489530-a851-448b-86ee-6747f88734e6",
   "metadata": {},
   "outputs": [],
   "source": [
    "party_93_00['contributor_name'] = party_93_00['contributor_name'].fillna('unkown')"
   ]
  },
  {
   "cell_type": "code",
   "execution_count": 75,
   "id": "d77b978f-5545-4c90-9b7e-d5d7a006ad09",
   "metadata": {},
   "outputs": [
    {
     "data": {
      "text/plain": [
       "political_entity                0\n",
       "recipient                       0\n",
       "political_party_of_recipient    0\n",
       "electoral_event                 0\n",
       "fiscal/election_date            0\n",
       "contributor_type                0\n",
       "contributor_name                0\n",
       "monetary_amount                 0\n",
       "dtype: int64"
      ]
     },
     "execution_count": 75,
     "metadata": {},
     "output_type": "execute_result"
    }
   ],
   "source": [
    "party_93_00.isna().sum()"
   ]
  },
  {
   "cell_type": "markdown",
   "id": "83366892-034c-46dc-91b0-52245dc995cc",
   "metadata": {},
   "source": [
    "## All_04_24"
   ]
  },
  {
   "cell_type": "code",
   "execution_count": 77,
   "id": "efa0c28e-30b0-460f-abe1-10028d7f2837",
   "metadata": {},
   "outputs": [
    {
     "data": {
      "text/plain": [
       "political_entity                0.000000\n",
       "recipient                       0.000000\n",
       "political_party_of_recipient    0.000000\n",
       "electoral_district              0.879454\n",
       "electoral_event                 0.082594\n",
       "fiscal/election_date            0.000000\n",
       "contributor_type                0.000000\n",
       "contributor_name                0.000022\n",
       "contributor_city                0.005302\n",
       "contributor_province            0.005456\n",
       "contributor_postal_code         0.005311\n",
       "contribution_received_date      0.005312\n",
       "monetary_amount                 0.000000\n",
       "non_monetary_amount             0.000000\n",
       "leadership_contestant           0.940507\n",
       "dtype: float64"
      ]
     },
     "execution_count": 77,
     "metadata": {},
     "output_type": "execute_result"
    }
   ],
   "source": [
    "all_04_24.isna().sum()/all_04_24.shape[0]"
   ]
  },
  {
   "cell_type": "markdown",
   "id": "baebcc79-9d61-4861-84c5-6cc3b4604d5e",
   "metadata": {},
   "source": [
    "### All_04_24 fill Contributor Nan"
   ]
  },
  {
   "cell_type": "code",
   "execution_count": 79,
   "id": "2d1c5709-f485-48da-9938-01c418057ab0",
   "metadata": {},
   "outputs": [],
   "source": [
    "all_04_24[[ \n",
    "'contributor_name', \n",
    "'contributor_city',\n",
    "'contributor_province',\n",
    "'contributor_postal_code',\n",
    "'contribution_received_date',\n",
    "'electoral_district',\n",
    "'electoral_event']] = all_04_24[[\n",
    "'contributor_name', \n",
    "'contributor_city',\n",
    "'contributor_province',\n",
    "'contributor_postal_code',\n",
    "'contribution_received_date',\n",
    "'electoral_district',\n",
    "'electoral_event']].fillna('unknown')\n"
   ]
  },
  {
   "cell_type": "markdown",
   "id": "0bd98db3-9ae3-462c-be14-adf2814c0bf7",
   "metadata": {},
   "source": [
    "### All_04_24 Fill Leadership Contestant"
   ]
  },
  {
   "cell_type": "code",
   "execution_count": 81,
   "id": "5527a7e1-c679-4575-9a9e-083612f5783e",
   "metadata": {},
   "outputs": [],
   "source": [
    "#fill leadership contestant with none as I assume the contribution was not going to a leadership contestant \n",
    "all_04_24['leadership_contestant'] = all_04_24['leadership_contestant'].fillna('none')"
   ]
  },
  {
   "cell_type": "code",
   "execution_count": 82,
   "id": "a318f3d2-ba5e-4c33-8b52-b70339ade45c",
   "metadata": {},
   "outputs": [
    {
     "data": {
      "text/plain": [
       "political_entity                0\n",
       "recipient                       0\n",
       "political_party_of_recipient    0\n",
       "electoral_district              0\n",
       "electoral_event                 0\n",
       "fiscal/election_date            0\n",
       "contributor_type                0\n",
       "contributor_name                0\n",
       "contributor_city                0\n",
       "contributor_province            0\n",
       "contributor_postal_code         0\n",
       "contribution_received_date      0\n",
       "monetary_amount                 0\n",
       "non_monetary_amount             0\n",
       "leadership_contestant           0\n",
       "dtype: int64"
      ]
     },
     "execution_count": 82,
     "metadata": {},
     "output_type": "execute_result"
    }
   ],
   "source": [
    "all_04_24.isna().sum()"
   ]
  },
  {
   "cell_type": "code",
   "execution_count": 83,
   "id": "42f0eb9f-9eec-44a1-a4fc-866e38351a97",
   "metadata": {},
   "outputs": [
    {
     "data": {
      "text/plain": [
       "political_entity\n",
       "Registered parties            4637294\n",
       "Registered associations        550682\n",
       "Leadership contestants         465715\n",
       "Candidates                     135243\n",
       "Nomination contestants          13530\n",
       "ï»¿Candidates                       4\n",
       "ï»¿Leadership contestants           4\n",
       "ï»¿Nomination contestants           4\n",
       "ï»¿Registered associations          4\n",
       "ï»¿Registered parties               2\n",
       "ï»¿ï»¿Registered parties            1\n",
       "Name: count, dtype: int64"
      ]
     },
     "execution_count": 83,
     "metadata": {},
     "output_type": "execute_result"
    }
   ],
   "source": [
    "all_04_24['political_entity'].value_counts()"
   ]
  },
  {
   "cell_type": "code",
   "execution_count": 84,
   "id": "98e6b21b-4d51-4365-bc8a-83a8dfa635cd",
   "metadata": {},
   "outputs": [],
   "source": [
    "#remove corrupted ï»¿ from classes\n",
    "all_04_24['political_entity'] = all_04_24['political_entity'].apply(lambda x: x.replace('ï»¿',''))\n"
   ]
  },
  {
   "cell_type": "code",
   "execution_count": 85,
   "id": "087815bc-1a28-48ef-9e67-13f30540c2bf",
   "metadata": {},
   "outputs": [
    {
     "data": {
      "text/plain": [
       "political_entity\n",
       "Registered parties         4637297\n",
       "Registered associations     550686\n",
       "Leadership contestants      465719\n",
       "Candidates                  135247\n",
       "Nomination contestants       13534\n",
       "Name: count, dtype: int64"
      ]
     },
     "execution_count": 85,
     "metadata": {},
     "output_type": "execute_result"
    }
   ],
   "source": [
    "#classes have been fixed\n",
    "all_04_24['political_entity'].value_counts()"
   ]
  },
  {
   "cell_type": "code",
   "execution_count": 86,
   "id": "0d12d59a-24f9-4d4c-81e9-2a057c6085f7",
   "metadata": {},
   "outputs": [
    {
     "data": {
      "text/plain": [
       "leadership_contestant\n",
       "none                         5457277\n",
       "Pierre Poilievre               77136\n",
       "Leslyn Lewis                   43410\n",
       "Erin O'Toole                   25293\n",
       "Peter MacKay                   21575\n",
       "                              ...   \n",
       "Rudy Husny                        15\n",
       "David Berlin                      12\n",
       "Alan Peter Francis Gorman         10\n",
       "Daniel Lindsay                     4\n",
       "Rod Taylor                         1\n",
       "Name: count, Length: 98, dtype: int64"
      ]
     },
     "execution_count": 86,
     "metadata": {},
     "output_type": "execute_result"
    }
   ],
   "source": [
    "all_04_24['leadership_contestant'].value_counts()"
   ]
  },
  {
   "cell_type": "markdown",
   "id": "fd3faf67-3aa5-4b29-ad23-a5605eb23c10",
   "metadata": {},
   "source": [
    "# Check Data Types"
   ]
  },
  {
   "cell_type": "code",
   "execution_count": 88,
   "id": "18673cd9-8545-4766-8299-30fb8b2b2312",
   "metadata": {},
   "outputs": [
    {
     "data": {
      "text/plain": [
       "political_entity                 object\n",
       "recipient                        object\n",
       "political_party_of_recipient     object\n",
       "electoral_district               object\n",
       "electoral_event                  object\n",
       "fiscal/election_date             object\n",
       "contributor_type                 object\n",
       "contributor_name                 object\n",
       "contributor_city                 object\n",
       "contributor_province             object\n",
       "contributor_postal_code          object\n",
       "monetary_amount                 float64\n",
       "non_monetary_amount             float64\n",
       "dtype: object"
      ]
     },
     "execution_count": 88,
     "metadata": {},
     "output_type": "execute_result"
    }
   ],
   "source": [
    "can_00_04.dtypes"
   ]
  },
  {
   "cell_type": "code",
   "execution_count": 89,
   "id": "b6ba0633-a3e3-42db-aeb7-4876ab8ac1b9",
   "metadata": {},
   "outputs": [
    {
     "data": {
      "text/plain": [
       "political_entity                 object\n",
       "recipient                        object\n",
       "political_party_of_recipient     object\n",
       "electoral_district               object\n",
       "electoral_event                  object\n",
       "fiscal/election_date             object\n",
       "contributor_type                 object\n",
       "contributor_name                 object\n",
       "monetary_amount                 float64\n",
       "non_monetary_amount             float64\n",
       "dtype: object"
      ]
     },
     "execution_count": 89,
     "metadata": {},
     "output_type": "execute_result"
    }
   ],
   "source": [
    "can_93_99.dtypes"
   ]
  },
  {
   "cell_type": "code",
   "execution_count": 90,
   "id": "2a6cca2f-5968-47ce-bdf0-b451a8540831",
   "metadata": {},
   "outputs": [
    {
     "data": {
      "text/plain": [
       "political_entity                 object\n",
       "recipient                        object\n",
       "political_party_of_recipient     object\n",
       "electoral_event                  object\n",
       "fiscal/election_date             object\n",
       "contributor_name                 object\n",
       "contributor_city                 object\n",
       "contributor_province             object\n",
       "contributor_postal_code          object\n",
       "monetary_amount                 float64\n",
       "non_monetary_amount             float64\n",
       "dtype: object"
      ]
     },
     "execution_count": 90,
     "metadata": {},
     "output_type": "execute_result"
    }
   ],
   "source": [
    "party_00_04.dtypes"
   ]
  },
  {
   "cell_type": "code",
   "execution_count": 91,
   "id": "3d5b983a-40f7-4af1-97e9-19994e0a3d7e",
   "metadata": {},
   "outputs": [
    {
     "data": {
      "text/plain": [
       "political_entity                 object\n",
       "recipient                        object\n",
       "political_party_of_recipient     object\n",
       "electoral_event                  object\n",
       "fiscal/election_date             object\n",
       "contributor_type                 object\n",
       "contributor_name                 object\n",
       "monetary_amount                 float64\n",
       "dtype: object"
      ]
     },
     "execution_count": 91,
     "metadata": {},
     "output_type": "execute_result"
    }
   ],
   "source": [
    "party_93_00.dtypes"
   ]
  },
  {
   "cell_type": "code",
   "execution_count": 92,
   "id": "ae4f18e6-3278-40e0-9df9-1faadac515e9",
   "metadata": {},
   "outputs": [
    {
     "data": {
      "text/plain": [
       "political_entity                 object\n",
       "recipient                        object\n",
       "political_party_of_recipient     object\n",
       "electoral_district               object\n",
       "electoral_event                  object\n",
       "fiscal/election_date             object\n",
       "contributor_type                 object\n",
       "contributor_name                 object\n",
       "contributor_city                 object\n",
       "contributor_province             object\n",
       "contributor_postal_code          object\n",
       "contribution_received_date       object\n",
       "monetary_amount                 float64\n",
       "non_monetary_amount             float64\n",
       "leadership_contestant            object\n",
       "dtype: object"
      ]
     },
     "execution_count": 92,
     "metadata": {},
     "output_type": "execute_result"
    }
   ],
   "source": [
    "all_04_24.dtypes"
   ]
  },
  {
   "cell_type": "code",
   "execution_count": null,
   "id": "b2b8607f-f356-439c-98fc-9ad16998f5ef",
   "metadata": {},
   "outputs": [],
   "source": []
  },
  {
   "cell_type": "markdown",
   "id": "176ade53-8ff2-4494-a222-117860de8314",
   "metadata": {},
   "source": [
    "# Concatinate Data Frames"
   ]
  },
  {
   "cell_type": "code",
   "execution_count": 94,
   "id": "8dac9c96-a8b1-4e93-b171-981bc89da491",
   "metadata": {},
   "outputs": [],
   "source": [
    "canada_contribution_data = pd.concat([all_04_24, party_00_04, party_93_00, can_00_04, can_93_99])"
   ]
  },
  {
   "cell_type": "code",
   "execution_count": 95,
   "id": "39fa40a5-9d92-4b11-a30b-43da9afe186e",
   "metadata": {},
   "outputs": [
    {
     "data": {
      "text/plain": [
       "(6468790, 15)"
      ]
     },
     "execution_count": 95,
     "metadata": {},
     "output_type": "execute_result"
    }
   ],
   "source": [
    "canada_contribution_data.shape"
   ]
  },
  {
   "cell_type": "code",
   "execution_count": 96,
   "id": "12125051-98e3-4053-9281-e5361ded61e4",
   "metadata": {},
   "outputs": [
    {
     "data": {
      "text/plain": [
       "Index(['political_entity', 'recipient', 'political_party_of_recipient',\n",
       "       'electoral_district', 'electoral_event', 'fiscal/election_date',\n",
       "       'contributor_type', 'contributor_name', 'contributor_city',\n",
       "       'contributor_province', 'contributor_postal_code',\n",
       "       'contribution_received_date', 'monetary_amount', 'non_monetary_amount',\n",
       "       'leadership_contestant'],\n",
       "      dtype='object')"
      ]
     },
     "execution_count": 96,
     "metadata": {},
     "output_type": "execute_result"
    }
   ],
   "source": [
    "canada_contribution_data.columns"
   ]
  },
  {
   "cell_type": "code",
   "execution_count": 97,
   "id": "6ffd85e5-b4a6-40f3-a364-ecd61e3e34b4",
   "metadata": {},
   "outputs": [
    {
     "data": {
      "text/plain": [
       "political_entity                     0\n",
       "recipient                            0\n",
       "political_party_of_recipient         0\n",
       "electoral_district              526677\n",
       "electoral_event                      0\n",
       "fiscal/election_date                 0\n",
       "contributor_type                101018\n",
       "contributor_name                     0\n",
       "contributor_city                525369\n",
       "contributor_province            525369\n",
       "contributor_postal_code         525369\n",
       "contribution_received_date      666307\n",
       "monetary_amount                      0\n",
       "non_monetary_amount             425659\n",
       "leadership_contestant           666307\n",
       "dtype: int64"
      ]
     },
     "execution_count": 97,
     "metadata": {},
     "output_type": "execute_result"
    }
   ],
   "source": [
    "canada_contribution_data.isna().sum()"
   ]
  },
  {
   "cell_type": "code",
   "execution_count": 98,
   "id": "cf72d1a4-ffb1-47b6-b0a9-46e164a21476",
   "metadata": {},
   "outputs": [],
   "source": [
    "#fill Nan values with 0\n",
    "canada_contribution_data['non_monetary_amount'] = canada_contribution_data['non_monetary_amount'].fillna(0)"
   ]
  },
  {
   "cell_type": "markdown",
   "id": "44052d4d-3f10-4774-bf66-38a7b944c32e",
   "metadata": {},
   "source": [
    "# Feature Engineering"
   ]
  },
  {
   "cell_type": "markdown",
   "id": "286c371a-4b81-4670-90b6-eba4c0f586e5",
   "metadata": {},
   "source": [
    "## total_contribution(float)"
   ]
  },
  {
   "cell_type": "code",
   "execution_count": 101,
   "id": "a2913bff-ddb2-41ed-9aff-bbf49c63afbb",
   "metadata": {},
   "outputs": [],
   "source": [
    "#create col for total contribution\n",
    "canada_contribution_data['total_contribution'] = canada_contribution_data['non_monetary_amount'] + canada_contribution_data['monetary_amount']"
   ]
  },
  {
   "cell_type": "code",
   "execution_count": 102,
   "id": "13a0f33e-569c-4a95-bb0b-bbdc5b47b097",
   "metadata": {},
   "outputs": [
    {
     "data": {
      "text/html": [
       "<div>\n",
       "<style scoped>\n",
       "    .dataframe tbody tr th:only-of-type {\n",
       "        vertical-align: middle;\n",
       "    }\n",
       "\n",
       "    .dataframe tbody tr th {\n",
       "        vertical-align: top;\n",
       "    }\n",
       "\n",
       "    .dataframe thead th {\n",
       "        text-align: right;\n",
       "    }\n",
       "</style>\n",
       "<table border=\"1\" class=\"dataframe\">\n",
       "  <thead>\n",
       "    <tr style=\"text-align: right;\">\n",
       "      <th></th>\n",
       "      <th>political_entity</th>\n",
       "      <th>recipient</th>\n",
       "      <th>political_party_of_recipient</th>\n",
       "      <th>electoral_district</th>\n",
       "      <th>electoral_event</th>\n",
       "      <th>fiscal/election_date</th>\n",
       "      <th>contributor_type</th>\n",
       "      <th>contributor_name</th>\n",
       "      <th>contributor_city</th>\n",
       "      <th>contributor_province</th>\n",
       "      <th>contributor_postal_code</th>\n",
       "      <th>contribution_received_date</th>\n",
       "      <th>monetary_amount</th>\n",
       "      <th>non_monetary_amount</th>\n",
       "      <th>leadership_contestant</th>\n",
       "      <th>total_contribution</th>\n",
       "    </tr>\n",
       "  </thead>\n",
       "  <tbody>\n",
       "    <tr>\n",
       "      <th>0</th>\n",
       "      <td>Candidates</td>\n",
       "      <td>Desjarlais, Bev</td>\n",
       "      <td>New Democratic Party</td>\n",
       "      <td>Churchill</td>\n",
       "      <td>38th general election</td>\n",
       "      <td>2004-06-28</td>\n",
       "      <td>Trade</td>\n",
       "      <td>USWA Local 6166</td>\n",
       "      <td>Thompson</td>\n",
       "      <td>MB</td>\n",
       "      <td>R8N1S7</td>\n",
       "      <td>unknown</td>\n",
       "      <td>10000.0</td>\n",
       "      <td>0.0</td>\n",
       "      <td>none</td>\n",
       "      <td>10000.0</td>\n",
       "    </tr>\n",
       "    <tr>\n",
       "      <th>1</th>\n",
       "      <td>Candidates</td>\n",
       "      <td>Desjarlais, Bev</td>\n",
       "      <td>New Democratic Party</td>\n",
       "      <td>Churchill</td>\n",
       "      <td>38th general election</td>\n",
       "      <td>2004-06-28</td>\n",
       "      <td>Trade</td>\n",
       "      <td>USWA Northern Area Council,</td>\n",
       "      <td>Thompson</td>\n",
       "      <td>MB</td>\n",
       "      <td>R8N1S7</td>\n",
       "      <td>unknown</td>\n",
       "      <td>10000.0</td>\n",
       "      <td>0.0</td>\n",
       "      <td>none</td>\n",
       "      <td>10000.0</td>\n",
       "    </tr>\n",
       "    <tr>\n",
       "      <th>2</th>\n",
       "      <td>Candidates</td>\n",
       "      <td>Desjarlais, Bev</td>\n",
       "      <td>New Democratic Party</td>\n",
       "      <td>Churchill</td>\n",
       "      <td>38th general election</td>\n",
       "      <td>2004-06-28</td>\n",
       "      <td>Trade</td>\n",
       "      <td>USWA PEC 1% Fund- District 3</td>\n",
       "      <td>Vancouver</td>\n",
       "      <td>BC</td>\n",
       "      <td>V5Z1G1</td>\n",
       "      <td>unknown</td>\n",
       "      <td>1500.0</td>\n",
       "      <td>0.0</td>\n",
       "      <td>none</td>\n",
       "      <td>1500.0</td>\n",
       "    </tr>\n",
       "    <tr>\n",
       "      <th>3</th>\n",
       "      <td>Candidates</td>\n",
       "      <td>BÃ©chard, Bruno-Marie</td>\n",
       "      <td>Liberal Party of Canada</td>\n",
       "      <td>Sherbrooke</td>\n",
       "      <td>38th general election</td>\n",
       "      <td>2004-06-28</td>\n",
       "      <td>Individuals</td>\n",
       "      <td>ALARY, SYLVAIN</td>\n",
       "      <td>Sherbrooke</td>\n",
       "      <td>QC</td>\n",
       "      <td>J1J 4N3</td>\n",
       "      <td>unknown</td>\n",
       "      <td>400.0</td>\n",
       "      <td>0.0</td>\n",
       "      <td>none</td>\n",
       "      <td>400.0</td>\n",
       "    </tr>\n",
       "    <tr>\n",
       "      <th>4</th>\n",
       "      <td>Candidates</td>\n",
       "      <td>BÃ©chard, Bruno-Marie</td>\n",
       "      <td>Liberal Party of Canada</td>\n",
       "      <td>Sherbrooke</td>\n",
       "      <td>38th general election</td>\n",
       "      <td>2004-06-28</td>\n",
       "      <td>Individuals</td>\n",
       "      <td>ANGERS, CHARLOTTE</td>\n",
       "      <td>Eaton</td>\n",
       "      <td>QC</td>\n",
       "      <td>J1M 2A2</td>\n",
       "      <td>unknown</td>\n",
       "      <td>500.0</td>\n",
       "      <td>0.0</td>\n",
       "      <td>none</td>\n",
       "      <td>500.0</td>\n",
       "    </tr>\n",
       "  </tbody>\n",
       "</table>\n",
       "</div>"
      ],
      "text/plain": [
       "  political_entity              recipient political_party_of_recipient  \\\n",
       "0       Candidates        Desjarlais, Bev         New Democratic Party   \n",
       "1       Candidates        Desjarlais, Bev         New Democratic Party   \n",
       "2       Candidates        Desjarlais, Bev         New Democratic Party   \n",
       "3       Candidates  BÃ©chard, Bruno-Marie      Liberal Party of Canada   \n",
       "4       Candidates  BÃ©chard, Bruno-Marie      Liberal Party of Canada   \n",
       "\n",
       "  electoral_district        electoral_event fiscal/election_date  \\\n",
       "0          Churchill  38th general election           2004-06-28   \n",
       "1          Churchill  38th general election           2004-06-28   \n",
       "2          Churchill  38th general election           2004-06-28   \n",
       "3         Sherbrooke  38th general election           2004-06-28   \n",
       "4         Sherbrooke  38th general election           2004-06-28   \n",
       "\n",
       "  contributor_type              contributor_name contributor_city  \\\n",
       "0            Trade               USWA Local 6166         Thompson   \n",
       "1            Trade   USWA Northern Area Council,         Thompson   \n",
       "2            Trade  USWA PEC 1% Fund- District 3        Vancouver   \n",
       "3      Individuals                ALARY, SYLVAIN       Sherbrooke   \n",
       "4      Individuals             ANGERS, CHARLOTTE            Eaton   \n",
       "\n",
       "  contributor_province contributor_postal_code contribution_received_date  \\\n",
       "0                   MB                  R8N1S7                    unknown   \n",
       "1                   MB                  R8N1S7                    unknown   \n",
       "2                   BC                  V5Z1G1                    unknown   \n",
       "3                   QC                 J1J 4N3                    unknown   \n",
       "4                   QC                 J1M 2A2                    unknown   \n",
       "\n",
       "   monetary_amount  non_monetary_amount leadership_contestant  \\\n",
       "0          10000.0                  0.0                  none   \n",
       "1          10000.0                  0.0                  none   \n",
       "2           1500.0                  0.0                  none   \n",
       "3            400.0                  0.0                  none   \n",
       "4            500.0                  0.0                  none   \n",
       "\n",
       "   total_contribution  \n",
       "0             10000.0  \n",
       "1             10000.0  \n",
       "2              1500.0  \n",
       "3               400.0  \n",
       "4               500.0  "
      ]
     },
     "execution_count": 102,
     "metadata": {},
     "output_type": "execute_result"
    }
   ],
   "source": [
    "canada_contribution_data.head()"
   ]
  },
  {
   "cell_type": "code",
   "execution_count": 103,
   "id": "e088ae3c-4df4-488f-b63b-2dd3baaaca5d",
   "metadata": {},
   "outputs": [],
   "source": [
    "#convert date to datetime\n",
    "canada_contribution_data['fiscal/election_date'] = pd.to_datetime(canada_contribution_data['fiscal/election_date'])"
   ]
  },
  {
   "cell_type": "code",
   "execution_count": 104,
   "id": "7c597211-da7b-4a6e-accd-cc56c94d1983",
   "metadata": {},
   "outputs": [],
   "source": [
    "#sort by date and set index as date\n",
    "canada_contribution_data = canada_contribution_data.sort_values(by = 'fiscal/election_date').set_index('fiscal/election_date')"
   ]
  },
  {
   "cell_type": "code",
   "execution_count": 105,
   "id": "d9f1af07-6b83-4cb5-b2f0-010fd19addc7",
   "metadata": {},
   "outputs": [
    {
     "data": {
      "text/html": [
       "<div>\n",
       "<style scoped>\n",
       "    .dataframe tbody tr th:only-of-type {\n",
       "        vertical-align: middle;\n",
       "    }\n",
       "\n",
       "    .dataframe tbody tr th {\n",
       "        vertical-align: top;\n",
       "    }\n",
       "\n",
       "    .dataframe thead th {\n",
       "        text-align: right;\n",
       "    }\n",
       "</style>\n",
       "<table border=\"1\" class=\"dataframe\">\n",
       "  <thead>\n",
       "    <tr style=\"text-align: right;\">\n",
       "      <th></th>\n",
       "      <th>political_entity</th>\n",
       "      <th>recipient</th>\n",
       "      <th>political_party_of_recipient</th>\n",
       "      <th>electoral_district</th>\n",
       "      <th>electoral_event</th>\n",
       "      <th>contributor_type</th>\n",
       "      <th>contributor_name</th>\n",
       "      <th>contributor_city</th>\n",
       "      <th>contributor_province</th>\n",
       "      <th>contributor_postal_code</th>\n",
       "      <th>contribution_received_date</th>\n",
       "      <th>monetary_amount</th>\n",
       "      <th>non_monetary_amount</th>\n",
       "      <th>leadership_contestant</th>\n",
       "      <th>total_contribution</th>\n",
       "    </tr>\n",
       "    <tr>\n",
       "      <th>fiscal/election_date</th>\n",
       "      <th></th>\n",
       "      <th></th>\n",
       "      <th></th>\n",
       "      <th></th>\n",
       "      <th></th>\n",
       "      <th></th>\n",
       "      <th></th>\n",
       "      <th></th>\n",
       "      <th></th>\n",
       "      <th></th>\n",
       "      <th></th>\n",
       "      <th></th>\n",
       "      <th></th>\n",
       "      <th></th>\n",
       "      <th></th>\n",
       "    </tr>\n",
       "  </thead>\n",
       "  <tbody>\n",
       "    <tr>\n",
       "      <th>1993-10-25</th>\n",
       "      <td>Candidate</td>\n",
       "      <td>Langlois, Charles</td>\n",
       "      <td>Progressive Conservative Party of Canada</td>\n",
       "      <td>Manicouagan</td>\n",
       "      <td>35th General Election</td>\n",
       "      <td>Registered parties</td>\n",
       "      <td>Ass. Conservatrice</td>\n",
       "      <td>NaN</td>\n",
       "      <td>NaN</td>\n",
       "      <td>NaN</td>\n",
       "      <td>NaN</td>\n",
       "      <td>5000.0</td>\n",
       "      <td>0.0</td>\n",
       "      <td>NaN</td>\n",
       "      <td>5000.0</td>\n",
       "    </tr>\n",
       "    <tr>\n",
       "      <th>1993-10-25</th>\n",
       "      <td>Candidate</td>\n",
       "      <td>Gray, Darryl L.</td>\n",
       "      <td>Progressive Conservative Party of Canada</td>\n",
       "      <td>Bonaventure--Îles-de-la-Madeleine</td>\n",
       "      <td>35th General Election</td>\n",
       "      <td>Individuals</td>\n",
       "      <td>Jules Corriveau</td>\n",
       "      <td>NaN</td>\n",
       "      <td>NaN</td>\n",
       "      <td>NaN</td>\n",
       "      <td>NaN</td>\n",
       "      <td>100.0</td>\n",
       "      <td>0.0</td>\n",
       "      <td>NaN</td>\n",
       "      <td>100.0</td>\n",
       "    </tr>\n",
       "    <tr>\n",
       "      <th>1993-10-25</th>\n",
       "      <td>Candidate</td>\n",
       "      <td>Gray, Darryl L.</td>\n",
       "      <td>Progressive Conservative Party of Canada</td>\n",
       "      <td>Bonaventure--Îles-de-la-Madeleine</td>\n",
       "      <td>35th General Election</td>\n",
       "      <td>Individuals</td>\n",
       "      <td>Jacques Dugas</td>\n",
       "      <td>NaN</td>\n",
       "      <td>NaN</td>\n",
       "      <td>NaN</td>\n",
       "      <td>NaN</td>\n",
       "      <td>100.0</td>\n",
       "      <td>0.0</td>\n",
       "      <td>NaN</td>\n",
       "      <td>100.0</td>\n",
       "    </tr>\n",
       "  </tbody>\n",
       "</table>\n",
       "</div>"
      ],
      "text/plain": [
       "                     political_entity          recipient  \\\n",
       "fiscal/election_date                                       \n",
       "1993-10-25                  Candidate  Langlois, Charles   \n",
       "1993-10-25                  Candidate    Gray, Darryl L.   \n",
       "1993-10-25                  Candidate    Gray, Darryl L.   \n",
       "\n",
       "                                  political_party_of_recipient  \\\n",
       "fiscal/election_date                                             \n",
       "1993-10-25            Progressive Conservative Party of Canada   \n",
       "1993-10-25            Progressive Conservative Party of Canada   \n",
       "1993-10-25            Progressive Conservative Party of Canada   \n",
       "\n",
       "                                     electoral_district  \\\n",
       "fiscal/election_date                                      \n",
       "1993-10-25                                  Manicouagan   \n",
       "1993-10-25            Bonaventure--Îles-de-la-Madeleine   \n",
       "1993-10-25            Bonaventure--Îles-de-la-Madeleine   \n",
       "\n",
       "                            electoral_event    contributor_type  \\\n",
       "fiscal/election_date                                              \n",
       "1993-10-25            35th General Election  Registered parties   \n",
       "1993-10-25            35th General Election         Individuals   \n",
       "1993-10-25            35th General Election         Individuals   \n",
       "\n",
       "                        contributor_name contributor_city  \\\n",
       "fiscal/election_date                                        \n",
       "1993-10-25            Ass. Conservatrice              NaN   \n",
       "1993-10-25               Jules Corriveau              NaN   \n",
       "1993-10-25                 Jacques Dugas              NaN   \n",
       "\n",
       "                     contributor_province contributor_postal_code  \\\n",
       "fiscal/election_date                                                \n",
       "1993-10-25                            NaN                     NaN   \n",
       "1993-10-25                            NaN                     NaN   \n",
       "1993-10-25                            NaN                     NaN   \n",
       "\n",
       "                     contribution_received_date  monetary_amount  \\\n",
       "fiscal/election_date                                               \n",
       "1993-10-25                                  NaN           5000.0   \n",
       "1993-10-25                                  NaN            100.0   \n",
       "1993-10-25                                  NaN            100.0   \n",
       "\n",
       "                      non_monetary_amount leadership_contestant  \\\n",
       "fiscal/election_date                                              \n",
       "1993-10-25                            0.0                   NaN   \n",
       "1993-10-25                            0.0                   NaN   \n",
       "1993-10-25                            0.0                   NaN   \n",
       "\n",
       "                      total_contribution  \n",
       "fiscal/election_date                      \n",
       "1993-10-25                        5000.0  \n",
       "1993-10-25                         100.0  \n",
       "1993-10-25                         100.0  "
      ]
     },
     "execution_count": 105,
     "metadata": {},
     "output_type": "execute_result"
    }
   ],
   "source": [
    "canada_contribution_data.head(3)"
   ]
  },
  {
   "cell_type": "code",
   "execution_count": 106,
   "id": "9ec4c51b-4270-463d-95e5-a921c72d9f5e",
   "metadata": {},
   "outputs": [
    {
     "data": {
      "text/html": [
       "<div>\n",
       "<style scoped>\n",
       "    .dataframe tbody tr th:only-of-type {\n",
       "        vertical-align: middle;\n",
       "    }\n",
       "\n",
       "    .dataframe tbody tr th {\n",
       "        vertical-align: top;\n",
       "    }\n",
       "\n",
       "    .dataframe thead th {\n",
       "        text-align: right;\n",
       "    }\n",
       "</style>\n",
       "<table border=\"1\" class=\"dataframe\">\n",
       "  <thead>\n",
       "    <tr style=\"text-align: right;\">\n",
       "      <th></th>\n",
       "      <th>political_entity</th>\n",
       "      <th>recipient</th>\n",
       "      <th>political_party_of_recipient</th>\n",
       "      <th>electoral_district</th>\n",
       "      <th>electoral_event</th>\n",
       "      <th>contributor_type</th>\n",
       "      <th>contributor_name</th>\n",
       "      <th>contributor_city</th>\n",
       "      <th>contributor_province</th>\n",
       "      <th>contributor_postal_code</th>\n",
       "      <th>contribution_received_date</th>\n",
       "      <th>monetary_amount</th>\n",
       "      <th>non_monetary_amount</th>\n",
       "      <th>leadership_contestant</th>\n",
       "      <th>total_contribution</th>\n",
       "    </tr>\n",
       "    <tr>\n",
       "      <th>fiscal/election_date</th>\n",
       "      <th></th>\n",
       "      <th></th>\n",
       "      <th></th>\n",
       "      <th></th>\n",
       "      <th></th>\n",
       "      <th></th>\n",
       "      <th></th>\n",
       "      <th></th>\n",
       "      <th></th>\n",
       "      <th></th>\n",
       "      <th></th>\n",
       "      <th></th>\n",
       "      <th></th>\n",
       "      <th></th>\n",
       "      <th></th>\n",
       "    </tr>\n",
       "  </thead>\n",
       "  <tbody>\n",
       "    <tr>\n",
       "      <th>2024-03-04</th>\n",
       "      <td>Candidates</td>\n",
       "      <td>Conlin, Patricia</td>\n",
       "      <td>People's Party of Canada</td>\n",
       "      <td>Durham</td>\n",
       "      <td>March 4, 2024, By-election</td>\n",
       "      <td>Individuals</td>\n",
       "      <td>Wilson, MC</td>\n",
       "      <td>Orillia</td>\n",
       "      <td>ON</td>\n",
       "      <td>L3V1Y9</td>\n",
       "      <td>2024-02-04</td>\n",
       "      <td>625.0</td>\n",
       "      <td>0.0</td>\n",
       "      <td>none</td>\n",
       "      <td>625.0</td>\n",
       "    </tr>\n",
       "    <tr>\n",
       "      <th>2024-03-04</th>\n",
       "      <td>Candidates</td>\n",
       "      <td>Conlin, Patricia</td>\n",
       "      <td>People's Party of Canada</td>\n",
       "      <td>Durham</td>\n",
       "      <td>March 4, 2024, By-election</td>\n",
       "      <td>Individuals</td>\n",
       "      <td>Contributions of $200 or less/contributions de...</td>\n",
       "      <td>unknown</td>\n",
       "      <td>unknown</td>\n",
       "      <td>unknown</td>\n",
       "      <td>unknown</td>\n",
       "      <td>2875.0</td>\n",
       "      <td>0.0</td>\n",
       "      <td>none</td>\n",
       "      <td>2875.0</td>\n",
       "    </tr>\n",
       "    <tr>\n",
       "      <th>2024-03-04</th>\n",
       "      <td>Candidates</td>\n",
       "      <td>Conlin, Patricia</td>\n",
       "      <td>People's Party of Canada</td>\n",
       "      <td>Durham</td>\n",
       "      <td>March 4, 2024, By-election</td>\n",
       "      <td>Individuals</td>\n",
       "      <td>Stanley, Heather</td>\n",
       "      <td>Toronto</td>\n",
       "      <td>ON</td>\n",
       "      <td>M4N1G4</td>\n",
       "      <td>2024-02-11</td>\n",
       "      <td>1700.0</td>\n",
       "      <td>0.0</td>\n",
       "      <td>none</td>\n",
       "      <td>1700.0</td>\n",
       "    </tr>\n",
       "  </tbody>\n",
       "</table>\n",
       "</div>"
      ],
      "text/plain": [
       "                     political_entity         recipient  \\\n",
       "fiscal/election_date                                      \n",
       "2024-03-04                 Candidates  Conlin, Patricia   \n",
       "2024-03-04                 Candidates  Conlin, Patricia   \n",
       "2024-03-04                 Candidates  Conlin, Patricia   \n",
       "\n",
       "                     political_party_of_recipient electoral_district  \\\n",
       "fiscal/election_date                                                   \n",
       "2024-03-04               People's Party of Canada             Durham   \n",
       "2024-03-04               People's Party of Canada             Durham   \n",
       "2024-03-04               People's Party of Canada             Durham   \n",
       "\n",
       "                                 electoral_event contributor_type  \\\n",
       "fiscal/election_date                                                \n",
       "2024-03-04            March 4, 2024, By-election      Individuals   \n",
       "2024-03-04            March 4, 2024, By-election      Individuals   \n",
       "2024-03-04            March 4, 2024, By-election      Individuals   \n",
       "\n",
       "                                                       contributor_name  \\\n",
       "fiscal/election_date                                                      \n",
       "2024-03-04                                                   Wilson, MC   \n",
       "2024-03-04            Contributions of $200 or less/contributions de...   \n",
       "2024-03-04                                             Stanley, Heather   \n",
       "\n",
       "                     contributor_city contributor_province  \\\n",
       "fiscal/election_date                                         \n",
       "2024-03-04                    Orillia                   ON   \n",
       "2024-03-04                    unknown              unknown   \n",
       "2024-03-04                    Toronto                   ON   \n",
       "\n",
       "                     contributor_postal_code contribution_received_date  \\\n",
       "fiscal/election_date                                                      \n",
       "2024-03-04                            L3V1Y9                 2024-02-04   \n",
       "2024-03-04                           unknown                    unknown   \n",
       "2024-03-04                            M4N1G4                 2024-02-11   \n",
       "\n",
       "                      monetary_amount  non_monetary_amount  \\\n",
       "fiscal/election_date                                         \n",
       "2024-03-04                      625.0                  0.0   \n",
       "2024-03-04                     2875.0                  0.0   \n",
       "2024-03-04                     1700.0                  0.0   \n",
       "\n",
       "                     leadership_contestant  total_contribution  \n",
       "fiscal/election_date                                            \n",
       "2024-03-04                            none               625.0  \n",
       "2024-03-04                            none              2875.0  \n",
       "2024-03-04                            none              1700.0  "
      ]
     },
     "execution_count": 106,
     "metadata": {},
     "output_type": "execute_result"
    }
   ],
   "source": [
    "canada_contribution_data.tail(3)"
   ]
  },
  {
   "cell_type": "markdown",
   "id": "e7137136-d3c9-429a-adcf-e0ed47534c81",
   "metadata": {},
   "source": [
    "## election_year(binary)"
   ]
  },
  {
   "cell_type": "code",
   "execution_count": 108,
   "id": "c9cc6cce-de4e-437f-9a9d-8d1f4e080a80",
   "metadata": {},
   "outputs": [],
   "source": [
    "#define set of election years\n",
    "election_years = {1993,1997,2000, 2004, 2006, 2008, 2011, 2015, 2019, 2021}"
   ]
  },
  {
   "cell_type": "code",
   "execution_count": 109,
   "id": "3d0262d1-c728-4df0-a435-fa357e4773d1",
   "metadata": {},
   "outputs": [],
   "source": [
    "#create list with election years\n",
    "election_years_list = [1993,1997,2000, 2004, 2006, 2008, 2011, 2015, 2019, 2021]\n",
    "\n",
    "#loop through df and create a list with 1 for row in an election year and 0 if not\n",
    "for y in canada_contribution_data.index.year:\n",
    "    if y in election_years:\n",
    "        election_years_list.append(1)\n",
    "    else:\n",
    "        election_years_list.append(0)"
   ]
  },
  {
   "cell_type": "code",
   "execution_count": 110,
   "id": "68916ca3-866a-4e13-ab6f-cf81067f7072",
   "metadata": {
    "scrolled": true
   },
   "outputs": [
    {
     "data": {
      "text/plain": [
       "{0, 1}"
      ]
     },
     "execution_count": 110,
     "metadata": {},
     "output_type": "execute_result"
    }
   ],
   "source": [
    "#check values\n",
    "set(election_years_list)"
   ]
  },
  {
   "cell_type": "code",
   "execution_count": 111,
   "id": "758b58af-1c69-4f80-9d17-6b6349e10bde",
   "metadata": {},
   "outputs": [],
   "source": [
    "canada_contribution_data['election_year'] = election_years_list"
   ]
  },
  {
   "cell_type": "code",
   "execution_count": 112,
   "id": "4607bc19-af86-4f1e-9abe-b3c0e3f7740c",
   "metadata": {},
   "outputs": [
    {
     "data": {
      "text/plain": [
       "fiscal/election_date\n",
       "1993-10-25    1\n",
       "1993-10-25    1\n",
       "1993-10-25    1\n",
       "1993-10-25    1\n",
       "1993-10-25    1\n",
       "Name: election_year, dtype: int64"
      ]
     },
     "execution_count": 112,
     "metadata": {},
     "output_type": "execute_result"
    }
   ],
   "source": [
    "canada_contribution_data['election_year'].head()"
   ]
  },
  {
   "cell_type": "code",
   "execution_count": 113,
   "id": "6a293f26-64e4-4517-96dd-1f297d391d9e",
   "metadata": {},
   "outputs": [
    {
     "data": {
      "text/plain": [
       "fiscal/election_date\n",
       "2024-03-04    0\n",
       "2024-03-04    0\n",
       "2024-03-04    0\n",
       "2024-03-04    0\n",
       "2024-03-04    0\n",
       "Name: election_year, dtype: int64"
      ]
     },
     "execution_count": 113,
     "metadata": {},
     "output_type": "execute_result"
    }
   ],
   "source": [
    "canada_contribution_data['election_year'].tail()"
   ]
  },
  {
   "cell_type": "markdown",
   "id": "8acc73a5-f771-4501-a722-e2c158960a50",
   "metadata": {},
   "source": [
    "## year(int)"
   ]
  },
  {
   "cell_type": "code",
   "execution_count": 115,
   "id": "35411f68-b392-4b53-892e-ea52ff23d7d6",
   "metadata": {},
   "outputs": [],
   "source": [
    "canada_contribution_data['year'] = canada_contribution_data.index.year"
   ]
  },
  {
   "cell_type": "markdown",
   "id": "e482ad79-22a9-48be-af87-75476397fef6",
   "metadata": {},
   "source": [
    "## pre_bill_c-24(binary)"
   ]
  },
  {
   "cell_type": "code",
   "execution_count": 274,
   "id": "fd2c0b50-46c6-4aa9-b4fc-d06634e09348",
   "metadata": {},
   "outputs": [],
   "source": [
    "#create a column where all entries are 1\n",
    "canada_contribution_data['pre_bill_c-24'] = 1"
   ]
  },
  {
   "cell_type": "code",
   "execution_count": 276,
   "id": "cc245418-2c0d-4daa-a055-bd6862af7d7b",
   "metadata": {},
   "outputs": [],
   "source": [
    "#change entries 2004 and later to 0\n",
    "canada_contribution_data.loc['2004':, 'pre_bill_c-24'] = 0"
   ]
  },
  {
   "cell_type": "code",
   "execution_count": 278,
   "id": "fce4f2bd-852d-4b62-95e7-33e21ef86b4e",
   "metadata": {},
   "outputs": [
    {
     "data": {
      "text/plain": [
       "True"
      ]
     },
     "execution_count": 278,
     "metadata": {},
     "output_type": "execute_result"
    }
   ],
   "source": [
    "#this value should = 0 if correctly assigned\n",
    "canada_contribution_data.loc['2004':, 'pre_bill_c-24'].sum() == 0"
   ]
  },
  {
   "cell_type": "code",
   "execution_count": 294,
   "id": "5073eff1-4855-4f39-8fde-bea2edca4b82",
   "metadata": {},
   "outputs": [
    {
     "data": {
      "text/plain": [
       "True"
      ]
     },
     "execution_count": 294,
     "metadata": {},
     "output_type": "execute_result"
    }
   ],
   "source": [
    "#if True then all pre 2004 data assigned correctly\n",
    "canada_contribution_data.loc[:'2003', 'pre_bill_c-24'].sum() == \\\n",
    "canada_contribution_data.loc[:'2003', 'pre_bill_c-24'].shape[0]"
   ]
  },
  {
   "cell_type": "markdown",
   "id": "eb894678-c42b-4674-9ccd-e531c2a811e6",
   "metadata": {},
   "source": [
    "# Relabeling Political Parties \n",
    "There are too many different names for essentially the same party ex the Reform Party and the Canadian Reform Conservative Alliance are the same party as well as the Liberal Party and the Liberal Party of Canada. Parties like the Green Party, with only a few seats historically, are not powerful enough to have much influence and will be excluded from the analysis, parties who have never had seats like the Christian Heritage Party will also not be included.\n",
    "\n",
    "The four main political parties of interest are\n",
    "1. Liberal Party\n",
    "2. Conservative Party\n",
    "3. New Democratic Party\n",
    "4. Bloc Québécois\n",
    "\n",
    "These parties make up the parties that have consistently had numerous seats in parliament and have formed the official opposition or governed Canada. However, there are some complications. The Progressive Conservative Party was disbanded in 2003 when it merged with the Reform Party, later the Canadian Alliance, to become the modern Conservative Party. Since the end result of the Progressive Conservatives and the Canadian Alliance was to unite conservatives into one party, I will consider the Reform/Alliance, Progressive Conservatives and Conservatives one party for forecasting purposes.  \n"
   ]
  },
  {
   "cell_type": "code",
   "execution_count": 117,
   "id": "31099755-ee17-42e6-b88d-13ac0c1641a9",
   "metadata": {},
   "outputs": [
    {
     "data": {
      "text/plain": [
       "political_party_of_recipient\n",
       "Conservative Party of Canada                2181408\n",
       "Liberal Party of Canada                     1840826\n",
       "New Democratic Party                        1562046\n",
       "Green Party of Canada                        394831\n",
       "Canadian Reform Conservative Alliance         87365\n",
       "Progressive Conservative Party of Canada      72960\n",
       "Reform Party of Canada                        51574\n",
       "Bloc QuÃ©bÃ©cois                              48187\n",
       "Christian Heritage Party of Canada            38903\n",
       "Liberal Party                                 35658\n",
       "Name: count, dtype: int64"
      ]
     },
     "execution_count": 117,
     "metadata": {},
     "output_type": "execute_result"
    }
   ],
   "source": [
    "#Examine the Political Parties\n",
    "canada_contribution_data['political_party_of_recipient'].value_counts().head(10)"
   ]
  },
  {
   "cell_type": "code",
   "execution_count": 118,
   "id": "7894b210-4f2b-4c65-8cb1-baffa474c142",
   "metadata": {},
   "outputs": [],
   "source": [
    "#create dict with new names for parties\n",
    "party_names_dict = {\n",
    "# names for Conservative Party\n",
    "'Conservative Party of Canada' : 'conservative',\n",
    "'Canadian Reform Conservative Alliance' : 'conservative',\n",
    "'Progressive Conservative Party of Canada': 'conservative',\n",
    "'Reform Party of Canada': 'conservative',\n",
    "'Progressive Conservative Party': 'conservative',\n",
    "'Reform Party': 'conservative',\n",
    "'Progressive Conservative': 'conservative',\n",
    "'Reform': 'conservative',\n",
    "'Canadian Alliance': 'conservative',\n",
    "#names for Liberal Party\n",
    "'Liberal Party of Canada': 'liberal',\n",
    "'Liberal Party': 'liberal',\n",
    "'Liberal': 'liberal',\n",
    "#name for NDP\n",
    "'N.D.P.':'ndp',\n",
    "'New Democratic Party': 'ndp',\n",
    "#Bloc Quebecois\n",
    "'Bloc QuÃ©bÃ©cois': 'bloc_québécois',\n",
    "'Bloc Québécois': 'bloc_québécois'}"
   ]
  },
  {
   "cell_type": "code",
   "execution_count": 119,
   "id": "26c09df2-cf17-4b8f-ac6b-91854f6c156e",
   "metadata": {},
   "outputs": [],
   "source": [
    "#replace names of parties with above dict\n",
    "canada_contribution_data['political_party_of_recipient'] = canada_contribution_data['political_party_of_recipient'].replace(party_names_dict)"
   ]
  },
  {
   "cell_type": "code",
   "execution_count": 120,
   "id": "f8f4ad36-9070-4dc5-a6b4-69a908aa7cca",
   "metadata": {},
   "outputs": [],
   "source": [
    "#only include 4 major parties\n",
    "canada_contribution_data = canada_contribution_data.loc[\n",
    "    (canada_contribution_data['political_party_of_recipient'] == 'conservative') | \n",
    "    (canada_contribution_data['political_party_of_recipient'] == 'liberal') | \n",
    "    (canada_contribution_data['political_party_of_recipient'] == 'ndp') |\n",
    "    (canada_contribution_data['political_party_of_recipient'] == 'bloc_québécois')]"
   ]
  },
  {
   "cell_type": "code",
   "execution_count": 121,
   "id": "49fbe0a3-8f18-4d0c-b0e2-03e949864d06",
   "metadata": {},
   "outputs": [
    {
     "data": {
      "text/plain": [
       "political_party_of_recipient\n",
       "conservative      2440473\n",
       "liberal           1893773\n",
       "ndp               1567630\n",
       "bloc_québécois      78989\n",
       "Name: count, dtype: int64"
      ]
     },
     "execution_count": 121,
     "metadata": {},
     "output_type": "execute_result"
    }
   ],
   "source": [
    "#checking remaining parties\n",
    "canada_contribution_data['political_party_of_recipient'].value_counts().head(5)"
   ]
  },
  {
   "cell_type": "markdown",
   "id": "8d9ad467-d965-4302-9e3f-e820828bc71d",
   "metadata": {},
   "source": [
    "# Export Clean Dataset"
   ]
  },
  {
   "cell_type": "code",
   "execution_count": 123,
   "id": "ca4ba19b-18b3-4881-aec3-c4ede52a0122",
   "metadata": {},
   "outputs": [],
   "source": [
    "canada_contribution_data.to_csv('./data/canada_contribution_data.csv', index = True)"
   ]
  },
  {
   "cell_type": "code",
   "execution_count": null,
   "id": "a74684c0-7a72-488e-9e9a-021c5d6e2da1",
   "metadata": {},
   "outputs": [],
   "source": []
  }
 ],
 "metadata": {
  "kernelspec": {
   "display_name": "Python 3 (ipykernel)",
   "language": "python",
   "name": "python3"
  },
  "language_info": {
   "codemirror_mode": {
    "name": "ipython",
    "version": 3
   },
   "file_extension": ".py",
   "mimetype": "text/x-python",
   "name": "python",
   "nbconvert_exporter": "python",
   "pygments_lexer": "ipython3",
   "version": "3.12.7"
  }
 },
 "nbformat": 4,
 "nbformat_minor": 5
}
