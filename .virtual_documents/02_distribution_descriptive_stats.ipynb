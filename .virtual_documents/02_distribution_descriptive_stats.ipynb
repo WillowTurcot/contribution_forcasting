import numpy as np
import pandas as pd
import matplotlib.pyplot as plt

#import functions from the functions notebook
%run functions.ipynb
import import_ipynb
import functions



contributions = retrieve_contributions()


contributions.head()


#change index to DateTime
contributions.index = pd.to_datetime(contributions.index)


#Check that the index is a DateTime object
isinstance(contributions.index, pd.DatetimeIndex)


contributions.dtypes


contributions.isna().sum()


#a look at the descriptive statistics of the total_contributions is extremely skewed right, indicating a large number of outliers. 
contributions['total_contribution'].describe()





total_contributions_median = contributions['total_contribution'].median()
total_contributions_median


total_contributions_std = contributions['total_contribution'].std()
total_contributions_std


cont_3x_std_values = contributions.loc[contributions['total_contribution'] < (total_contributions_median + (3*total_contributions_std))]


plot_boxplot(contributions[['monetary_amount', 'non_monetary_amount', 'total_contribution']], title = 'Distribution of Contribution Amounts', xlabel = None, ylabel = 'Frequency')


plot_boxplot(cont_3x_std_values[['monetary_amount', 'non_monetary_amount', 'total_contribution']], title = 'Distribution of Contributions Without Outliers ', xlabel = None, ylabel = 'Frequency')



plot_scatter_subplots(
    contributions[['monetary_amount', 'non_monetary_amount','total_contribution']], 
    title = 'Contributions', 
    figsize = (10,14), 
    alpha = 0.5
)


plot_scatter_subplots(
    cont_3x_std_values[['monetary_amount', 'non_monetary_amount','total_contribution']], 
    title = 'Contributor Without Outliers Amounts/Time', 
    figsize = (10,14), 
    alpha = 0.5
)





contributions.columns


party_mean_group = contributions.groupby('political_party_of_recipient')[['monetary_amount', 'non_monetary_amount','total_contribution']].mean()



party_mean_group.plot(kind ='bar')
plt.xticks(rotation = 45)
plt.title('Mean of Party Contributions')
plt.ylabel('Canadian Dollars')
plt.xlabel('Contribution Type')


party_median_group = contributions.groupby('political_party_of_recipient')[['monetary_amount', 'non_monetary_amount','total_contribution']].median()



party_median_group.plot(kind ='bar')
plt.xticks(rotation = 45)
plt.title('Median of Party Contributions')
plt.ylabel('Canadian Dollars')
plt.xlabel('Contribution Type')


party_sum_group = contributions.groupby('political_party_of_recipient')[['monetary_amount', 'non_monetary_amount','total_contribution']].sum()



party_sum_group.plot(kind ='bar')
plt.xticks(rotation = 45)
plt.title('Sum of Party Contributions')
plt.ylabel('Canadian Dollars 100 Millions')
plt.xlabel('Contribution Type')


party_count_group = contributions.groupby('political_party_of_recipient')[['monetary_amount', 'non_monetary_amount','total_contribution']].count()


party_count_group.plot(kind ='bar')
plt.xticks(rotation = 45)
plt.title('Number of Party Contributions')
plt.ylabel('Canadian Dollars Millions')
plt.xlabel('Contribution Type')
