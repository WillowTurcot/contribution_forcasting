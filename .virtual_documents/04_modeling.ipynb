


import pandas as pd
import numpy as np
import matplotlib.pyplot as plt

#sklearn
from sklearn.linear_model import LinearRegression 
from sklearn.metrics import root_mean_squared_error, mean_absolute_error

#sktime
from sktime.forecasting.naive import NaiveForecaster
from sktime.forecasting.arima import ARIMA
from sktime.forecasting.model_selection import ForecastingGridSearchCV
from sktime.forecasting.model_selection import ExpandingWindowSplitter

#import functions from the functions notebook
%run functions.ipynb
import import_ipynb
import functions


#retrieve data
contributions = retrieve_contributions()



#change index to DateTime
contributions.index = pd.to_datetime(contributions.index)
#Check that the index is a DateTime object
isinstance(contributions.index, pd.DatetimeIndex)


contributions.head(2)


contributions.tail(2)


party_list = ['liberal', 'conservative', 'ndp', 'bloc_québécois']






#create list of election years
election_years = [1993,1997,2000, 2004, 2006, 2008, 2011, 2015, 2019, 2021]





party = 'liberal'

#get train test split for 4 years
X_train, y_train, X_test, y_test = get_tts(data = contributions, 
        election_years = election_years, 
       party = party,
       train_end = 2019, 
       test_end = 2023,
       lags = 5)


#instantiate naive forecaster, fit and get predictions
liberal_base_model = NaiveForecaster(strategy = 'mean')
liberal_base_model.fit(y_train)
liberal_base_preds = liberal_base_model.predict(y_test.index)


#plot baseline forecast
plt.figure(figsize = (9, 3))
plt.plot(y_train, label = 'Train')
plt.plot(y_test, label = 'Test')
plt.plot(y_test.index, liberal_base_preds, label = 'liberal_preds')
plt.title('Baseline Model Prediction 2019-2023')
plt.ylabel('Contributions in 10''s Millions')
plt.xticks(range(1997, 2024), rotation = 45)
plt.legend();


#get base metrics
liberal_base_rmse = round(root_mean_squared_error(y_test, liberal_base_preds),0)
liberal_base_mae = round(mean_absolute_error(y_test, liberal_base_preds),0)


#display base metrics 
print(f'Liberal Baseline Model')
print(f'RMSE: {liberal_base_rmse}')
print(f'MAE: {liberal_base_mae}')





party = 'conservative'

#get train test split for 4 years
X_train, y_train, X_test, y_test = get_tts(data = contributions, 
        election_years = election_years, 
       party = party,
       train_end = 2019, 
       test_end = 2023,
       lags = 5)

#instantiate naive forecaster, fit and get predictions
conservative_base_model = NaiveForecaster(strategy = 'mean')
conservative_base_model.fit(y_train)
conservative_base_preds = conservative_base_model.predict(y_test.index)

#plot baseline forecast
plt.figure(figsize = (9, 3))
plt.plot(y_train, label = 'Train')
plt.plot(y_test, label = 'Test')
plt.plot(y_test.index, conservative_base_preds, label = 'conservative_preds')
plt.title('Baseline Model Prediction 2019-2023')
plt.ylabel('Contributions in 10''s Millions')
plt.xticks(range(1997, 2024), rotation = 45)
plt.legend();


#get base metrics
conservative_base_rmse = round(root_mean_squared_error(y_test, conservative_base_preds),0)
conservative_base_mae = round(mean_absolute_error(y_test, conservative_base_preds),0)

#display base metrics 
print(f'Liberal Baseline Model')
print(f'RMSE: {conservative_base_rmse}')
print(f'MAE: {conservative_base_mae}')





party = 'ndp'

#get train test split for 4 years
X_train, y_train, X_test, y_test = get_tts(data = contributions, 
        election_years = election_years, 
       party = party,
       train_end = 2019, 
       test_end = 2023,
       lags = 5)

#instantiate naive forecaster, fit and get predictions
ndp_base_model = NaiveForecaster(strategy = 'mean')
ndp_base_model.fit(y_train)
ndp_base_preds = ndp_base_model.predict(y_test.index)

#plot baseline forecast
plt.figure(figsize = (9, 3))
plt.plot(y_train, label = 'Train')
plt.plot(y_test, label = 'Test')
plt.plot(y_test.index, ndp_base_preds, label = 'ndp_preds')
plt.title('NDP Baseline Model Prediction 2019-2023')
plt.ylabel('Contributions in 10''s Millions')
plt.xticks(range(1997, 2024), rotation = 45)
plt.legend();


#get base metrics
ndp_base_rmse = round(root_mean_squared_error(y_test, ndp_base_preds),0)
ndp_base_mae = round(mean_absolute_error(y_test, ndp_base_preds),0)

#display base metrics 
print(f'NDP Baseline Model')
print(f'RMSE: {ndp_base_rmse}')
print(f'MAE: {ndp_base_mae}')





party = 'bloc_québécois'

#get train test split for 4 years
X_train, y_train, X_test, y_test = get_tts(data = contributions, 
        election_years = election_years, 
       party = party,
       train_end = 2019, 
       test_end = 2023,
       lags = 5)

#instantiate naive forecaster, fit and get predictions
bloc_québécois_base_model = NaiveForecaster(strategy = 'mean')
bloc_québécois_base_model.fit(y_train)
bloc_québécois_base_preds = bloc_québécois_base_model.predict(y_test.index)

#plot baseline forecast
plt.figure(figsize = (9, 3))
plt.plot(y_train, label = 'Train')
plt.plot(y_test, label = 'Test')
plt.plot(y_test.index, bloc_québécois_base_preds, label = 'bloc_québécois_preds')
plt.title('Bloc Québécois Baseline Model Prediction 2019-2023')
plt.ylabel('Contributions in Millions')
plt.xticks(range(1997, 2024), rotation = 45)
plt.legend();


#get base metrics
bloc_québécois_base_rmse = round(root_mean_squared_error(y_test, bloc_québécois_base_preds),0)
bloc_québécois_base_mae = round(mean_absolute_error(y_test, bloc_québécois_base_preds),0)

#display base metrics 
print(f'Bloc Québécois Baseline Model')
print(f'RMSE: {bloc_québécois_base_rmse}')
print(f'MAE: {bloc_québécois_base_mae}')





#create a dataframe to store modeling results
model_res = pd.DataFrame()





X_train, y_train, X_test, y_test = get_tts(data = contributions, 
        election_years = election_years, 
       party = 'liberal',
       train_end = 2019, 
       test_end = 2023,
       lags = 5)

model_res = pd.concat([model_res, 
                       lr_results(X_train, y_train, X_test, y_test,
                                  input_df = model_res,
                                  party = 'liberal',
                                 model_name = 'L1')]
                                    )
#get predictions 
l1_preds = extract_preds(model_res, 'L1')

model_res.drop(columns = 'preds')


plt.figure(figsize = (12, 6))
plt.plot(y_train, label = 'y_train')
plt.plot(y_test, label = 'y_test')
plt.plot(y_test.index, l1_preds, label = 'liberal_preds')
plt.xticks(range(1997, 2024), rotation = 45)
plt.legend();





X_train, y_train, X_test, y_test = get_tts(data = contributions, 
        election_years = election_years, 
       party = 'liberal',
       scaler = 'log',                                    
       train_end = 2019, 
       test_end = 2023,
       lags = 5)


model_res = pd.concat([model_res, 
                       lr_results(X_train, y_train, X_test, y_test,
                                  input_df = model_res,
                                  party = 'liberal',
                                 scaler = 'log',
                                 model_name = 'L2')]
                            )
#get predictions 
l2_preds = extract_preds(model_res, 'L2')

model_res.drop(columns = 'preds')





plt.figure(figsize = (12, 6))
plt.plot(np.exp(y_train), label = 'y_train')
plt.plot(np.exp(y_test), label = 'y_test')
plt.plot(y_test.index, l2_preds, label = 'liberal_preds')
plt.xticks(range(1997, 2024), rotation = 45)
plt.legend();





X_train, y_train, X_test, y_test = get_tts(data = contributions, 
        election_years = election_years, 
       party = 'conservative',
       train_end = 2019, 
       test_end = 2023,
       lags = 5)

model_res = pd.concat([model_res, 
                       lr_results(X_train, y_train, X_test, y_test, 
                                  input_df = model_res, 
                                  party = 'conservative',
                                 model_name = 'C1')]
                                    )
c1_preds = extract_preds(model_res, 'C1')
model_res.drop(columns = 'preds')


plt.figure(figsize = (12, 6))
plt.plot(y_train, label = 'y_train')
plt.plot(y_test, label = 'y_test')
plt.plot(y_test.index, c1_preds, label = 'conservative_preds')
plt.xticks(range(1997, 2024), rotation = 45)
plt.legend();





X_train, y_train, X_test, y_test = get_tts(data = contributions, 
        election_years = election_years, 
       party = 'conservative',
       train_end = 2019, 
       test_end = 2023,
       lags = 5,
        scaler = 'log')

model_res = pd.concat([model_res, 
                       lr_results(X_train, y_train, X_test, y_test, 
                                  input_df = model_res, 
                                  party = 'conservative',
                                 model_name = 'C2',
                                 scaler = 'log')]
                                    )
c2_preds = extract_preds(model_res, 'C2')
model_res.drop(columns = 'preds')


plt.figure(figsize = (12, 6))
plt.plot(np.exp(y_train), label = 'y_train')
plt.plot(np.exp(y_test), label = 'y_test')
plt.plot(y_test.index, c2_preds, label = 'liberal_preds')
plt.xticks(range(1997, 2024), rotation = 45)
plt.legend();





X_train, y_train, X_test, y_test = get_tts(data = contributions, 
        election_years = election_years, 
       party = 'ndp',
       train_end = 2019, 
       test_end = 2023,
       lags = 5)

model_res = pd.concat([model_res, 
                       lr_results(X_train, y_train, X_test, y_test, 
                                  input_df = model_res, 
                                  party = 'ndp',
                                 model_name = 'N1')]
                                    )
n1_preds = extract_preds(model_res, 'N1')
model_res.drop(columns = 'preds')


plt.figure(figsize = (12, 6))
plt.plot(y_train, label = 'y_train')
plt.plot(y_test, label = 'y_test')
plt.plot(y_test.index, n1_preds, label = 'NDP Preds')
plt.xticks(range(1997, 2024), rotation = 45)
plt.legend();





X_train, y_train, X_test, y_test = get_tts(data = contributions, 
        election_years = election_years, 
       party = 'ndp',
       train_end = 2019, 
       test_end = 2023,
       lags = 5,
        scaler = 'log')

model_res = pd.concat([model_res, 
                       lr_results(X_train, y_train, X_test, y_test, 
                                  input_df = model_res, 
                                  party = 'ndp',
                                 model_name = 'N2',
                                 scaler = 'log')]
                                    )
n2_preds = extract_preds(model_res, 'N2')
model_res.drop(columns = 'preds')


plt.figure(figsize = (12, 6))
plt.plot(np.exp(y_train), label = 'y_train')
plt.plot(np.exp(y_test), label = 'y_test')
plt.plot(y_test.index, n2_preds, label = 'NDP Preds')
plt.xticks(range(1997, 2024), rotation = 45)
plt.legend();





X_train, y_train, X_test, y_test = get_tts(data = contributions, 
        election_years = election_years, 
       party = 'bloc_québécois',
       train_end = 2019, 
       test_end = 2023,
       lags = 5)

model_res = pd.concat([model_res, 
                       lr_results(X_train, y_train, X_test, y_test, 
                                  input_df = model_res, 
                                  party = 'bloc_québécois',
                                 model_name = 'B1')]
                                    )
b1_preds = extract_preds(model_res, 'B1')
model_res.drop(columns = 'preds')


plt.figure(figsize = (12, 6))
plt.plot(y_train, label = 'y_train')
plt.plot(y_test, label = 'y_test')
plt.plot(y_test.index, b1_preds, label = 'Bloc Québécois preds')
plt.xticks(range(1997, 2024), rotation = 45)
plt.legend();





X_train, y_train, X_test, y_test = get_tts(data = contributions, 
        election_years = election_years, 
       party = 'bloc_québécois',
       train_end = 2019, 
       test_end = 2023,
       lags = 5,
        scaler = 'log')

model_res = pd.concat([model_res, 
                       lr_results(X_train, y_train, X_test, y_test, 
                                  input_df = model_res, 
                                  party = 'bloc_québécois',
                                 model_name = 'B2',
                                 scaler = 'log')]
                                    )
b2_preds = extract_preds(model_res, 'B2')
model_res.drop(columns = 'preds')


plt.figure(figsize = (12, 6))
plt.plot(np.exp(y_train), label = 'y_train')
plt.plot(np.exp(y_test), label = 'y_test')
plt.plot(y_test.index, b2_preds, label = 'Bloc Québécois Preds')
plt.xticks(range(1997, 2024), rotation = 45)
plt.legend();








party = 'liberal'
model_name = 'L3'

#liberal Train test Split 
X_train, y_train, X_test, y_test = get_tts(data = contributions, 
        election_years = election_years, 
       party = party,
       train_end = 2019, 
       test_end = 2023,
       lags = 0)



model_res = pd.concat([model_res, 
                       arima_results(X_train, y_train, X_test, y_test, 
                                     party = party, 
                                     fh = [1,2,3,4], 
                                     model_name = model_name,
                                    param_grid =  
                                     {'order': [#(1,0,0), (5,0,0), (7,0,0),
                                    (1,1,0),(3,1,0),(5,1,0),
                                    (1,1,1), (3,1,1), (5,1,1), (7,1,1)
                                               ],
                                      
                                    'trend': [None, "t","ct"]}
                                     )])
l3_preds = extract_preds(model_res, model_name)
model_res.drop(columns = 'preds')


plt.figure(figsize = (12, 6))
plt.plot(y_train, label = 'y_train')
plt.plot(y_test, label = 'y_test')
plt.plot(y_test.index, l3_preds, label = party)
plt.xticks(range(1997, 2024), rotation = 45)
plt.legend();





party = 'conservative'
model_name = 'C3'

#Train test Split 
X_train, y_train, X_test, y_test = get_tts(data = contributions, 
        election_years = election_years, 
       party = party,
       train_end = 2019, 
       test_end = 2023,
       lags = 0)



model_res = pd.concat([model_res, 
                       arima_results(X_train, y_train, X_test, y_test, 
                                     party = party, 
                                     fh = [1,2,3,4], 
                                     model_name = model_name,
                                    param_grid =  
                                     {'order': [#(1,0,0), (5,0,0), (7,0,0),
                                    (1,1,0),(3,1,0),(5,1,0),
                                    (1,1,1), (3,1,1), (5,1,1), (7,1,1)],
                                      
                                    'trend': [None, "t","ct"]}
                                     )])
c3_preds = extract_preds(model_res, model_name)
model_res.drop(columns = 'preds')


plt.figure(figsize = (12, 6))
plt.plot(y_train, label = 'y_train')
plt.plot(y_test, label = 'y_test')
plt.plot(y_test.index, c3_preds, label = party)
plt.xticks(range(1997, 2024), rotation = 45)
plt.legend();





party = 'ndp'
model_name = 'N3'

#Train test Split 
X_train, y_train, X_test, y_test = get_tts(data = contributions, 
        election_years = election_years, 
       party = party,
       train_end = 2019, 
       test_end = 2023,
       lags = 0)



model_res = pd.concat([model_res, 
                       arima_results(X_train, y_train, X_test, y_test, 
                                     party = party, 
                                     fh = [1,2,3,4], 
                                     model_name = model_name)]
                                    )
n3_preds = extract_preds(model_res, model_name)
model_res.drop(columns = 'preds')


plt.figure(figsize = (12, 6))
plt.plot(y_train, label = 'y_train')
plt.plot(y_test, label = 'y_test')
plt.plot(y_test.index, n3_preds, label = party)
plt.xticks(range(1993, 2024), rotation = 45)
plt.legend();





party = 'bloc_québécois'
model_name = 'B3'

#Train test Split 
X_train, y_train, X_test, y_test = get_tts(data = contributions, 
        election_years = election_years, 
       party = party,
       train_end = 2018, 
       test_end = 2023,
       lags = 0)



model_res = pd.concat([model_res, 
                       arima_results(X_train, y_train, X_test, y_test, 
                                     party = party, 
                                     fh = [1,2,3,4], 
                                     model_name = model_name)]
                                    )
b3_preds = extract_preds(model_res, model_name)
model_res.drop(columns = 'preds')


plt.figure(figsize = (12, 6))
plt.plot(y_train, label = 'y_train')
plt.plot(y_test, label = 'y_test')
plt.plot(y_test.index, b3_preds, label = f'{party} Preds')
plt.xticks(range(1993, 2023), rotation = 45)
plt.legend();





#create diff columns for later fill
model_res['rmse_diff_base'] = None
model_res['mae_diff_base'] = None 

model_res.loc[model_res['party'] == 'liberal', 'rmse_diff_base'] = liberal_base_rmse - model_res['rmse'].loc[model_res['party'] == 'liberal']
model_res.loc[model_res['party'] == 'conservative','rmse_diff_base'] = conservative_base_rmse - model_res['rmse'].loc[model_res['party'] == 'conservative']
model_res.loc[model_res['party'] == 'ndp','rmse_diff_base'] = ndp_base_rmse - model_res['rmse'].loc[model_res['party'] == 'ndp']
model_res.loc[model_res['party'] == 'bloc_québécois','rmse_diff_base'] = bloc_québécois_base_rmse - model_res['rmse'].loc[model_res['party'] == 'bloc_québécois']

model_res.loc[model_res['party'] == 'liberal', 'mae_diff_base'] = liberal_base_mae - model_res['mae'].loc[model_res['party'] == 'liberal']
model_res.loc[model_res['party'] == 'conservative','mae_diff_base'] = conservative_base_mae - model_res['mae'].loc[model_res['party'] == 'conservative']
model_res.loc[model_res['party'] == 'ndp','mae_diff_base'] = ndp_base_mae - model_res['mae'].loc[model_res['party'] == 'ndp']
model_res.loc[model_res['party'] == 'bloc_québécois','mae_diff_base'] = bloc_québécois_base_mae - model_res['mae'].loc[model_res['party'] == 'bloc_québécois']



model_res[['party', 'rmse', 'mae']].loc[model_res['party'] == 'bloc_québécois']


model_res[['model_name','rmse','rmse_diff_base', 'mae', 'mae_diff_base']]











party = 'ndp'

#get train test split for 4 years
X_train, y_train, X_test, y_test = get_tts(data = contributions, 
        election_years = election_years, 
       party = party,
       train_end = 2019, 
       test_end = 2023,
       lags = 5)

#instantiate naive forecaster, fit and get predictions
ndp_base_model = NaiveForecaster(strategy = 'mean')
ndp_base_model.fit(y_train)
ndp_base_preds = ndp_base_model.predict(y_test.index)

#plot baseline forecast
plt.figure(figsize = (12, 4))
plt.plot(y_train, label = 'Train', color = 'tab:orange', linewidth = 3)
plt.plot(y_test, label = 'Test', color = 'tab:orange', linewidth = 3)
plt.plot(y_test.index, ndp_base_preds, color = 'k', linewidth =3)
plt.title('NDP Baseline Model Prediction 2019-2023')
plt.ylabel('Contributions in 10''s Millions')
plt.xticks(range(1997, 2024), rotation = 45)
plt.savefig('./visuals/ndp_baseline.png');


X_train, y_train, X_test, y_test = get_tts(data = contributions, 
        election_years = election_years, 
       party = 'liberal',
       train_end = 2019, 
       test_end = 2023,
       lags = 5)

model_res = pd.concat([model_res, 
                       lr_results(X_train, y_train, X_test, y_test,
                                  input_df = model_res,
                                  party = 'liberal',
                                 model_name = 'L1')]
                                    )
#get predictions 
l1_preds = extract_preds(model_res, 'L1')

model_res.drop(columns = 'preds')

plt.figure(figsize = (12, 4))
plt.title('Best Liberal Forecast')
plt.plot(y_train, label = 'y_train', color = 'tab:red', linewidth=3)
plt.plot(y_test, label = 'y_test', color = 'tab:red', linewidth=3)
plt.plot(y_test.index, l1_preds, label = 'liberal_preds', color = 'k', linewidth=3)
plt.xticks(range(1997, 2024), rotation = 45)
plt.savefig('./visuals/best_liberal_forcast.png')
;


X_train, y_train, X_test, y_test = get_tts(data = contributions, 
        election_years = election_years, 
       party = 'conservative',
       train_end = 2019, 
       test_end = 2023,
       lags = 5)

model_res = pd.concat([model_res, 
                       lr_results(X_train, y_train, X_test, y_test, 
                                  input_df = model_res, 
                                  party = 'conservative',
                                 model_name = 'C1')]
                                    )
c1_preds = extract_preds(model_res, 'C1')
model_res.drop(columns = 'preds')

plt.figure(figsize = (12, 6))
plt.title('Conservative best Model')
plt.plot(y_train, label = 'y_train', color = 'tab:blue', linewidth=3)
plt.plot(y_test, label = 'y_test', color = 'tab:blue', linewidth=3)
plt.plot(y_test.index, c1_preds, label = 'conservative_preds', color = 'k', linewidth=3)
plt.xticks(range(1997, 2024), rotation = 45)
plt.savefig('./visuals/best_conservative_forecast.png')
;



