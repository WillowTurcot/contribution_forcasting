


import numpy as np
import pandas as pd
import matplotlib.pyplot as plt
import matplotlib.dates as mdates

#stats models
from statsmodels.graphics.tsaplots import plot_acf
from statsmodels.tsa.stattools import adfuller

#import functions from the functions notebook
%run functions.ipynb
import import_ipynb
import functions


contributions = retrieve_contributions()


#change index to DateTime
contributions.index = pd.to_datetime(contributions.index)


#Check that the index is a DateTime object
isinstance(contributions.index, pd.DatetimeIndex)


contributions.head(2)


#check index is a datetime
type(contributions.index)





group_party_mean = contributions[['total_contribution', 
               'political_party_of_recipient']].groupby(
                [pd.Grouper(freq='YE'), 'political_party_of_recipient' 
                 ])['total_contribution'].mean()



group_party_mean.head()





#Comments done with chat gpt
# Define the party list and corresponding color list
party_list = ['liberal', 'conservative', 'ndp', 'bloc_québécois']
color_list = ['red', 'blue', 'orange', 'purple']  # Correct color assignments

plt.figure(figsize = (24, 6))

# Plot contributions for each party
for party, color in zip(party_list, color_list):
    contributions[contributions['political_party_of_recipient'] == party] \
        .groupby('fiscal/election_date')['total_contribution'] \
        .sum() \
        .plot(label=party, color=color)

# Add legend and labels
plt.legend(title="Political Parties")
plt.title("Daily Contributions by Political Party")
plt.xlabel("Date")
plt.ylabel("Total Contributions 10 Millions")
plt.grid(True)
plt.gca().xaxis.set_major_locator(mdates.YearLocator())
plt.tight_layout()



contributions['year'].head()


contributions['political_party_of_recipient'].value_counts()





#Comments done with chat gpt
# Define the party list and corresponding color list
party_list = ['liberal', 'conservative', 'ndp', 'bloc_québécois']
color_list = ['tab:red', 'tab:blue', 'tab:orange', 'tab:purple']  # Correct color assignments
election_dates = [1993,1997,2000, 2004, 2006, 2008, 2011, 2015, 2019, 2021]

plt.figure(figsize = (12,6))

# Plot contributions for each party
for p, c in zip(party_list, color_list):
    contributions[contributions['political_party_of_recipient'] == p] \
        .groupby('year')['total_contribution'] \
        .sum() \
        .plot(label=p, color=c, linewidth = 2.5)

# Add legend and labels
plt.legend(fontsize = 15)
plt.title("Total Yearly Contributions by Political Party, Election Year Marked with Black Line",
         fontsize = 19)
plt.xlabel("Year", fontsize = 15)
plt.xticks(range(1993, 2024,2), rotation = 45, fontsize = 14)
plt.yticks(fontsize = 14)
plt.ylabel("Total Contributions 10 Millions",fontsize = 15)
plt.grid(True)
for e in election_dates:
    plt.axvline(e, color = 'k')
plt.tight_layout()









#Comments done with chat gpt
# Define the party list and corresponding color list
party_list = ['liberal', 'conservative', 'ndp', 'bloc_québécois']
color_list = ['tab:red', 'tab:blue', 'tab:orange', 'tab:purple']  # Correct color assignments
election_dates = [1993,1997,2000, 2004, 2006, 2008, 2011, 2015, 2019, 2021]

plt.figure(figsize = (12,6))

# Plot contributions for each party
for p, c in zip(party_list, color_list):
    contributions[contributions['political_party_of_recipient'] == p] \
        .groupby('year')['total_contribution'] \
        .count() \
        .plot(label=p, color=c, linewidth = 2.5)

# Add legend and labels
plt.legend(fontsize = 15)
plt.title("Number of Contributions by Political Party, Election Year Marked with Black Line",
          fontsize = 19)
plt.xlabel("Year", fontsize = 15)
plt.xticks(range(1993, 2024, 2), rotation = 45, fontsize = 14)
plt.yticks(fontsize = 14)
plt.ylabel("Number of Contributions", fontsize = 15)
plt.grid(True)
for e in election_dates:
    plt.axvline(e, color = 'k')
plt.tight_layout()


contributions.index.value_counts()








#Comments done with chat gpt
# Define the party list and corresponding color list
party_list = ['liberal', 'conservative', 'ndp', 'bloc_québécois']
color_list = ['tab:red', 'tab:blue', 'tab:orange', 'tab:purple']  # Correct color assignments
election_dates = [1993,1997,2000, 2004, 2006, 2008, 2011, 2015, 2019, 2021]

plt.figure(figsize = (12,6))

# Plot contributions for each party
for p, c in zip(party_list, color_list):
    contributions[contributions['political_party_of_recipient'] == p] \
        .groupby('year')['total_contribution'] \
        .mean() \
        .plot(label=p, color=c, linewidth = 2.5)

# Add legend and labels
plt.legend(title="Political Parties", fontsize = 19)
plt.title("Mean Contribution Value by Political Party, Election Year Marked with Black Line")
plt.xlabel("Year", fontsize = 15)
plt.xticks(range(1993, 2024, 2), rotation = 45, fontsize = 14)
plt.yticks(fontsize = 14)
plt.ylabel("Mean of Contributions", fontsize = 15)
plt.grid(True)
for e in election_dates:
    plt.axvline(e, color = 'k')
plt.tight_layout()








adfull_test = adfuller(contributions[['total_contribution', 'year']]\
                .groupby('year')['total_contribution']\
                .sum())
print(f'ADFuller Test\'s')
print(f' All: P-Value =  {adfull_test[1]}')

for p in party_list:
    
    adfull_test = adfuller(contributions[['total_contribution', 'year']]\
             .loc[contributions['political_party_of_recipient'] == p]\
             .groupby('year')['total_contribution']\
             .sum())
    print(f' {p}: P-Value = {adfull_test[1]}') 
    









#create autocorrelation for the total contribution column
plot_acf(contributions[['total_contribution', 'year']]\
             .groupby('year')['total_contribution']\
             .sum(), lags = 10) #lag 10 chosen because data goes back about 30 years 
plt.title('All Parties AutoCorrelation')

#create autocorrelation for all of the parties
for p in party_list:
    plot_acf(contributions[['total_contribution', 'year']]\
             .loc[contributions['political_party_of_recipient'] == p]\
             .groupby('year')['total_contribution']\
             .sum(), lags = 10)   
    plt.title(f'{p} AutoCorrelation')




